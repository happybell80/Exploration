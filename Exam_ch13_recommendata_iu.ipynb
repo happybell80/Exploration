{
 "cells": [
  {
   "cell_type": "markdown",
   "metadata": {
    "id": "2JopCJw8Ut-y"
   },
   "source": [
    "# 13-9. 프로젝트 - Movielens 영화 추천 실습\n"
   ]
  },
  {
   "cell_type": "markdown",
   "metadata": {
    "id": "dwrSg3L8U1io"
   },
   "source": [
    "Movielens 데이터  \n",
    "- 유저가 영화에 대해 평점을 매긴 데이터가 데이터 크기 별로 있습니다. MovieLens 1M Dataset 사용을 권장합니다.\n",
    "- 별점 데이터는 대표적인 explicit 데이터입니다. 하지만 implicit 데이터로 간주하고 테스트해 볼 수 있습니다.\n",
    "- 별점을 시청횟수로 해석해서 생각하겠습니다.\n",
    "- 또한 유저가 3점 미만으로 준 데이터는 선호하지 않는다고 가정하고 제외하겠습니다."
   ]
  },
  {
   "cell_type": "code",
   "execution_count": 1,
   "metadata": {
    "colab": {
     "base_uri": "https://localhost:8080/"
    },
    "executionInfo": {
     "elapsed": 901,
     "status": "ok",
     "timestamp": 1666951921099,
     "user": {
      "displayName": "김종태",
      "userId": "06122921812067136763"
     },
     "user_tz": -540
    },
    "id": "UeF6zzn5UfL3",
    "outputId": "7ae4e219-cfb8-4c0a-fc52-f22ca914d19a"
   },
   "outputs": [
    {
     "name": "stdout",
     "output_type": "stream",
     "text": [
      "0.4.8\n"
     ]
    }
   ],
   "source": [
    "import os\n",
    "\n",
    "import pandas as pd\n",
    "import numpy as np\n",
    "import scipy\n",
    "import implicit\n",
    "from scipy.sparse import csr_matrix\n",
    "\n",
    "from implicit.als import AlternatingLeastSquares\n",
    "\n",
    "\n",
    "print(implicit.__version__)"
   ]
  },
  {
   "cell_type": "markdown",
   "metadata": {
    "id": "Qg3JBN_bWNDQ"
   },
   "source": [
    "## 1) 데이터 준비와 전처리\n"
   ]
  },
  {
   "cell_type": "markdown",
   "metadata": {
    "id": "eh6xH9O1WPwD"
   },
   "source": [
    "Movielens 데이터는 rating.dat 안에 이미 인덱싱까지 완료된 사용자-영화-평점 데이터가 깔끔하게 정리되어 있습니다."
   ]
  },
  {
   "cell_type": "code",
   "execution_count": 2,
   "metadata": {
    "colab": {
     "base_uri": "https://localhost:8080/",
     "height": 206
    },
    "executionInfo": {
     "elapsed": 5566,
     "status": "ok",
     "timestamp": 1666951926663,
     "user": {
      "displayName": "김종태",
      "userId": "06122921812067136763"
     },
     "user_tz": -540
    },
    "id": "KRHsCygEUsyB",
    "outputId": "f4ebb1d0-19b6-4b3d-dc61-3a53bf6fc4d8"
   },
   "outputs": [
    {
     "data": {
      "text/html": [
       "<div>\n",
       "<style scoped>\n",
       "    .dataframe tbody tr th:only-of-type {\n",
       "        vertical-align: middle;\n",
       "    }\n",
       "\n",
       "    .dataframe tbody tr th {\n",
       "        vertical-align: top;\n",
       "    }\n",
       "\n",
       "    .dataframe thead th {\n",
       "        text-align: right;\n",
       "    }\n",
       "</style>\n",
       "<table border=\"1\" class=\"dataframe\">\n",
       "  <thead>\n",
       "    <tr style=\"text-align: right;\">\n",
       "      <th></th>\n",
       "      <th>user_id</th>\n",
       "      <th>movie_id</th>\n",
       "      <th>ratings</th>\n",
       "      <th>timestamp</th>\n",
       "    </tr>\n",
       "  </thead>\n",
       "  <tbody>\n",
       "    <tr>\n",
       "      <th>0</th>\n",
       "      <td>1</td>\n",
       "      <td>1193</td>\n",
       "      <td>5</td>\n",
       "      <td>978300760</td>\n",
       "    </tr>\n",
       "    <tr>\n",
       "      <th>1</th>\n",
       "      <td>1</td>\n",
       "      <td>661</td>\n",
       "      <td>3</td>\n",
       "      <td>978302109</td>\n",
       "    </tr>\n",
       "    <tr>\n",
       "      <th>2</th>\n",
       "      <td>1</td>\n",
       "      <td>914</td>\n",
       "      <td>3</td>\n",
       "      <td>978301968</td>\n",
       "    </tr>\n",
       "    <tr>\n",
       "      <th>3</th>\n",
       "      <td>1</td>\n",
       "      <td>3408</td>\n",
       "      <td>4</td>\n",
       "      <td>978300275</td>\n",
       "    </tr>\n",
       "    <tr>\n",
       "      <th>4</th>\n",
       "      <td>1</td>\n",
       "      <td>2355</td>\n",
       "      <td>5</td>\n",
       "      <td>978824291</td>\n",
       "    </tr>\n",
       "  </tbody>\n",
       "</table>\n",
       "</div>"
      ],
      "text/plain": [
       "   user_id  movie_id  ratings  timestamp\n",
       "0        1      1193        5  978300760\n",
       "1        1       661        3  978302109\n",
       "2        1       914        3  978301968\n",
       "3        1      3408        4  978300275\n",
       "4        1      2355        5  978824291"
      ]
     },
     "execution_count": 2,
     "metadata": {},
     "output_type": "execute_result"
    }
   ],
   "source": [
    "rating_file_path=os.getenv('HOME') + '/aiffel/recommendata_iu/data/ml-1m/ratings.dat'\n",
    "ratings_cols = ['user_id', 'movie_id', 'ratings', 'timestamp']\n",
    "ratings = pd.read_csv(rating_file_path, sep='::', names=ratings_cols, engine='python', encoding = \"ISO-8859-1\")\n",
    "orginal_data_size = len(ratings)\n",
    "ratings.head()"
   ]
  },
  {
   "cell_type": "code",
   "execution_count": 3,
   "metadata": {
    "colab": {
     "base_uri": "https://localhost:8080/"
    },
    "executionInfo": {
     "elapsed": 18,
     "status": "ok",
     "timestamp": 1666951926665,
     "user": {
      "displayName": "김종태",
      "userId": "06122921812067136763"
     },
     "user_tz": -540
    },
    "id": "JQTH4-c0WX0x",
    "outputId": "a79f594d-f429-4c3e-f0ac-3e460d01b861"
   },
   "outputs": [
    {
     "name": "stdout",
     "output_type": "stream",
     "text": [
      "orginal_data_size: 1000209, filtered_data_size: 836478\n",
      "Ratio of Remaining Data is 83.63%\n"
     ]
    }
   ],
   "source": [
    "# 3점 이상만 남깁니다.\n",
    "ratings = ratings[ratings['ratings']>=3]\n",
    "filtered_data_size = len(ratings)\n",
    "\n",
    "print(f'orginal_data_size: {orginal_data_size}, filtered_data_size: {filtered_data_size}')\n",
    "print(f'Ratio of Remaining Data is {filtered_data_size / orginal_data_size:.2%}')"
   ]
  },
  {
   "cell_type": "code",
   "execution_count": 4,
   "metadata": {
    "colab": {
     "base_uri": "https://localhost:8080/"
    },
    "executionInfo": {
     "elapsed": 17,
     "status": "ok",
     "timestamp": 1666951926666,
     "user": {
      "displayName": "김종태",
      "userId": "06122921812067136763"
     },
     "user_tz": -540
    },
    "id": "3hVDy3sEWkZF",
    "outputId": "9790c632-de5d-4632-95d4-3d6cc7815bc7"
   },
   "outputs": [
    {
     "data": {
      "text/plain": [
       "0          5\n",
       "1          3\n",
       "2          3\n",
       "3          4\n",
       "4          5\n",
       "          ..\n",
       "1000203    3\n",
       "1000205    5\n",
       "1000206    5\n",
       "1000207    4\n",
       "1000208    4\n",
       "Name: counts, Length: 836478, dtype: int64"
      ]
     },
     "execution_count": 4,
     "metadata": {},
     "output_type": "execute_result"
    }
   ],
   "source": [
    "# ratings 컬럼의 이름을 counts로 바꿉니다.\n",
    "ratings.rename(columns={'ratings':'counts'}, inplace=True)\n",
    "ratings['counts']"
   ]
  },
  {
   "cell_type": "code",
   "execution_count": 6,
   "metadata": {
    "colab": {
     "base_uri": "https://localhost:8080/",
     "height": 206
    },
    "executionInfo": {
     "elapsed": 16,
     "status": "ok",
     "timestamp": 1666951926667,
     "user": {
      "displayName": "김종태",
      "userId": "06122921812067136763"
     },
     "user_tz": -540
    },
    "id": "QkUN2UrlWnz-",
    "outputId": "bf3af52b-ceaa-4039-dece-0771b769274a"
   },
   "outputs": [
    {
     "data": {
      "text/html": [
       "<div>\n",
       "<style scoped>\n",
       "    .dataframe tbody tr th:only-of-type {\n",
       "        vertical-align: middle;\n",
       "    }\n",
       "\n",
       "    .dataframe tbody tr th {\n",
       "        vertical-align: top;\n",
       "    }\n",
       "\n",
       "    .dataframe thead th {\n",
       "        text-align: right;\n",
       "    }\n",
       "</style>\n",
       "<table border=\"1\" class=\"dataframe\">\n",
       "  <thead>\n",
       "    <tr style=\"text-align: right;\">\n",
       "      <th></th>\n",
       "      <th>movie_id</th>\n",
       "      <th>title</th>\n",
       "      <th>genre</th>\n",
       "    </tr>\n",
       "  </thead>\n",
       "  <tbody>\n",
       "    <tr>\n",
       "      <th>0</th>\n",
       "      <td>1</td>\n",
       "      <td>Toy Story (1995)</td>\n",
       "      <td>Animation|Children's|Comedy</td>\n",
       "    </tr>\n",
       "    <tr>\n",
       "      <th>1</th>\n",
       "      <td>2</td>\n",
       "      <td>Jumanji (1995)</td>\n",
       "      <td>Adventure|Children's|Fantasy</td>\n",
       "    </tr>\n",
       "    <tr>\n",
       "      <th>2</th>\n",
       "      <td>3</td>\n",
       "      <td>Grumpier Old Men (1995)</td>\n",
       "      <td>Comedy|Romance</td>\n",
       "    </tr>\n",
       "    <tr>\n",
       "      <th>3</th>\n",
       "      <td>4</td>\n",
       "      <td>Waiting to Exhale (1995)</td>\n",
       "      <td>Comedy|Drama</td>\n",
       "    </tr>\n",
       "    <tr>\n",
       "      <th>4</th>\n",
       "      <td>5</td>\n",
       "      <td>Father of the Bride Part II (1995)</td>\n",
       "      <td>Comedy</td>\n",
       "    </tr>\n",
       "  </tbody>\n",
       "</table>\n",
       "</div>"
      ],
      "text/plain": [
       "   movie_id                               title                         genre\n",
       "0         1                    Toy Story (1995)   Animation|Children's|Comedy\n",
       "1         2                      Jumanji (1995)  Adventure|Children's|Fantasy\n",
       "2         3             Grumpier Old Men (1995)                Comedy|Romance\n",
       "3         4            Waiting to Exhale (1995)                  Comedy|Drama\n",
       "4         5  Father of the Bride Part II (1995)                        Comedy"
      ]
     },
     "execution_count": 6,
     "metadata": {},
     "output_type": "execute_result"
    }
   ],
   "source": [
    "# 영화 제목을 보기 위해 메타 데이터를 읽어옵니다.\n",
    "movie_file_path=os.getenv('HOME') + '/aiffel/recommendata_iu/data/ml-1m/movies.dat'\n",
    "cols = ['movie_id', 'title', 'genre'] \n",
    "movies = pd.read_csv(movie_file_path, sep='::', names=cols, engine='python', encoding='ISO-8859-1')\n",
    "movies.head()"
   ]
  },
  {
   "cell_type": "code",
   "execution_count": 7,
   "metadata": {
    "colab": {
     "base_uri": "https://localhost:8080/",
     "height": 224
    },
    "executionInfo": {
     "elapsed": 15,
     "status": "ok",
     "timestamp": 1666951926667,
     "user": {
      "displayName": "김종태",
      "userId": "06122921812067136763"
     },
     "user_tz": -540
    },
    "id": "6CzDEL2HZpU5",
    "outputId": "38c2a2bb-b591-47ec-efa7-8a47a8a0d649"
   },
   "outputs": [
    {
     "name": "stdout",
     "output_type": "stream",
     "text": [
      "6040\n"
     ]
    },
    {
     "data": {
      "text/html": [
       "<div>\n",
       "<style scoped>\n",
       "    .dataframe tbody tr th:only-of-type {\n",
       "        vertical-align: middle;\n",
       "    }\n",
       "\n",
       "    .dataframe tbody tr th {\n",
       "        vertical-align: top;\n",
       "    }\n",
       "\n",
       "    .dataframe thead th {\n",
       "        text-align: right;\n",
       "    }\n",
       "</style>\n",
       "<table border=\"1\" class=\"dataframe\">\n",
       "  <thead>\n",
       "    <tr style=\"text-align: right;\">\n",
       "      <th></th>\n",
       "      <th>user_id</th>\n",
       "      <th>gender</th>\n",
       "      <th>temp1</th>\n",
       "      <th>temp2</th>\n",
       "      <th>temp3</th>\n",
       "    </tr>\n",
       "  </thead>\n",
       "  <tbody>\n",
       "    <tr>\n",
       "      <th>0</th>\n",
       "      <td>1</td>\n",
       "      <td>F</td>\n",
       "      <td>1</td>\n",
       "      <td>10</td>\n",
       "      <td>48067</td>\n",
       "    </tr>\n",
       "    <tr>\n",
       "      <th>1</th>\n",
       "      <td>2</td>\n",
       "      <td>M</td>\n",
       "      <td>56</td>\n",
       "      <td>16</td>\n",
       "      <td>70072</td>\n",
       "    </tr>\n",
       "    <tr>\n",
       "      <th>2</th>\n",
       "      <td>3</td>\n",
       "      <td>M</td>\n",
       "      <td>25</td>\n",
       "      <td>15</td>\n",
       "      <td>55117</td>\n",
       "    </tr>\n",
       "    <tr>\n",
       "      <th>3</th>\n",
       "      <td>4</td>\n",
       "      <td>M</td>\n",
       "      <td>45</td>\n",
       "      <td>7</td>\n",
       "      <td>02460</td>\n",
       "    </tr>\n",
       "    <tr>\n",
       "      <th>4</th>\n",
       "      <td>5</td>\n",
       "      <td>M</td>\n",
       "      <td>25</td>\n",
       "      <td>20</td>\n",
       "      <td>55455</td>\n",
       "    </tr>\n",
       "  </tbody>\n",
       "</table>\n",
       "</div>"
      ],
      "text/plain": [
       "   user_id gender  temp1  temp2  temp3\n",
       "0        1      F      1     10  48067\n",
       "1        2      M     56     16  70072\n",
       "2        3      M     25     15  55117\n",
       "3        4      M     45      7  02460\n",
       "4        5      M     25     20  55455"
      ]
     },
     "execution_count": 7,
     "metadata": {},
     "output_type": "execute_result"
    }
   ],
   "source": [
    "# 사용자 정보을 보기 위해 메타 데이터를 읽어옵니다.\n",
    "user_file_path=os.getenv('HOME') + '/aiffel/recommendata_iu/data/ml-1m/users.dat'\n",
    "cols = ['user_id', 'gender', 'temp1','temp2','temp3'] \n",
    "users = pd.read_csv(user_file_path, sep='::'\n",
    "                    , names=cols\n",
    "                    , engine='python', encoding='ISO-8859-1')\n",
    "print(len(users))\n",
    "users.head()\n"
   ]
  },
  {
   "cell_type": "markdown",
   "metadata": {
    "id": "go5KPbRe5g4f"
   },
   "source": [
    "users에는 이번 학습에 영향을 주는 데이터가 없네요"
   ]
  },
  {
   "cell_type": "code",
   "execution_count": 8,
   "metadata": {
    "executionInfo": {
     "elapsed": 572,
     "status": "ok",
     "timestamp": 1666951927227,
     "user": {
      "displayName": "김종태",
      "userId": "06122921812067136763"
     },
     "user_tz": -540
    },
    "id": "W7qXjWTAfdIt"
   },
   "outputs": [],
   "source": [
    "# ratings, movie, users 합치기 -> total_df\n",
    "\n",
    "total_df = pd.merge(ratings, movies, on='movie_id', how='left')"
   ]
  },
  {
   "cell_type": "code",
   "execution_count": 9,
   "metadata": {
    "colab": {
     "base_uri": "https://localhost:8080/",
     "height": 206
    },
    "executionInfo": {
     "elapsed": 14,
     "status": "ok",
     "timestamp": 1666951927228,
     "user": {
      "displayName": "김종태",
      "userId": "06122921812067136763"
     },
     "user_tz": -540
    },
    "id": "gd6iHWBPg9Wb",
    "outputId": "4b3a38f9-b493-42f3-ca52-aefc394f260a"
   },
   "outputs": [
    {
     "data": {
      "text/html": [
       "<div>\n",
       "<style scoped>\n",
       "    .dataframe tbody tr th:only-of-type {\n",
       "        vertical-align: middle;\n",
       "    }\n",
       "\n",
       "    .dataframe tbody tr th {\n",
       "        vertical-align: top;\n",
       "    }\n",
       "\n",
       "    .dataframe thead th {\n",
       "        text-align: right;\n",
       "    }\n",
       "</style>\n",
       "<table border=\"1\" class=\"dataframe\">\n",
       "  <thead>\n",
       "    <tr style=\"text-align: right;\">\n",
       "      <th></th>\n",
       "      <th>user_id</th>\n",
       "      <th>movie_id</th>\n",
       "      <th>counts</th>\n",
       "      <th>timestamp</th>\n",
       "      <th>title</th>\n",
       "      <th>genre</th>\n",
       "    </tr>\n",
       "  </thead>\n",
       "  <tbody>\n",
       "    <tr>\n",
       "      <th>0</th>\n",
       "      <td>1</td>\n",
       "      <td>1193</td>\n",
       "      <td>5</td>\n",
       "      <td>978300760</td>\n",
       "      <td>One Flew Over the Cuckoo's Nest (1975)</td>\n",
       "      <td>Drama</td>\n",
       "    </tr>\n",
       "    <tr>\n",
       "      <th>1</th>\n",
       "      <td>1</td>\n",
       "      <td>661</td>\n",
       "      <td>3</td>\n",
       "      <td>978302109</td>\n",
       "      <td>James and the Giant Peach (1996)</td>\n",
       "      <td>Animation|Children's|Musical</td>\n",
       "    </tr>\n",
       "    <tr>\n",
       "      <th>2</th>\n",
       "      <td>1</td>\n",
       "      <td>914</td>\n",
       "      <td>3</td>\n",
       "      <td>978301968</td>\n",
       "      <td>My Fair Lady (1964)</td>\n",
       "      <td>Musical|Romance</td>\n",
       "    </tr>\n",
       "    <tr>\n",
       "      <th>3</th>\n",
       "      <td>1</td>\n",
       "      <td>3408</td>\n",
       "      <td>4</td>\n",
       "      <td>978300275</td>\n",
       "      <td>Erin Brockovich (2000)</td>\n",
       "      <td>Drama</td>\n",
       "    </tr>\n",
       "    <tr>\n",
       "      <th>4</th>\n",
       "      <td>1</td>\n",
       "      <td>2355</td>\n",
       "      <td>5</td>\n",
       "      <td>978824291</td>\n",
       "      <td>Bug's Life, A (1998)</td>\n",
       "      <td>Animation|Children's|Comedy</td>\n",
       "    </tr>\n",
       "  </tbody>\n",
       "</table>\n",
       "</div>"
      ],
      "text/plain": [
       "   user_id  movie_id  counts  timestamp  \\\n",
       "0        1      1193       5  978300760   \n",
       "1        1       661       3  978302109   \n",
       "2        1       914       3  978301968   \n",
       "3        1      3408       4  978300275   \n",
       "4        1      2355       5  978824291   \n",
       "\n",
       "                                    title                         genre  \n",
       "0  One Flew Over the Cuckoo's Nest (1975)                         Drama  \n",
       "1        James and the Giant Peach (1996)  Animation|Children's|Musical  \n",
       "2                     My Fair Lady (1964)               Musical|Romance  \n",
       "3                  Erin Brockovich (2000)                         Drama  \n",
       "4                    Bug's Life, A (1998)   Animation|Children's|Comedy  "
      ]
     },
     "execution_count": 9,
     "metadata": {},
     "output_type": "execute_result"
    }
   ],
   "source": [
    "total_df.head()"
   ]
  },
  {
   "cell_type": "markdown",
   "metadata": {
    "id": "sT7qwM3D5zhu"
   },
   "source": [
    "title 을 깔끔하게 보기 위해 상영 연도를 지우고, 이번 실습 목적에 맞게 user_id, title, counts만 남기고 모두 제거하겠습니다."
   ]
  },
  {
   "cell_type": "code",
   "execution_count": 10,
   "metadata": {
    "executionInfo": {
     "elapsed": 11,
     "status": "ok",
     "timestamp": 1666951927228,
     "user": {
      "displayName": "김종태",
      "userId": "06122921812067136763"
     },
     "user_tz": -540
    },
    "id": "pSeRYUCC6Ga5"
   },
   "outputs": [],
   "source": [
    "# 필요없는 칼럼 삭제\n",
    "ratings = total_df.drop(['movie_id', 'timestamp', 'genre'], axis=1)\n",
    "\n",
    "# title의 연도 지우기\n",
    "ratings['title'] = ratings['title'].apply(lambda x: x[:-7])"
   ]
  },
  {
   "cell_type": "code",
   "execution_count": 11,
   "metadata": {
    "colab": {
     "base_uri": "https://localhost:8080/",
     "height": 206
    },
    "executionInfo": {
     "elapsed": 12,
     "status": "ok",
     "timestamp": 1666951927229,
     "user": {
      "displayName": "김종태",
      "userId": "06122921812067136763"
     },
     "user_tz": -540
    },
    "id": "2tRICjmyB-yg",
    "outputId": "d0f93d58-28c1-48fc-eed2-dcc11d83f470"
   },
   "outputs": [
    {
     "data": {
      "text/html": [
       "<div>\n",
       "<style scoped>\n",
       "    .dataframe tbody tr th:only-of-type {\n",
       "        vertical-align: middle;\n",
       "    }\n",
       "\n",
       "    .dataframe tbody tr th {\n",
       "        vertical-align: top;\n",
       "    }\n",
       "\n",
       "    .dataframe thead th {\n",
       "        text-align: right;\n",
       "    }\n",
       "</style>\n",
       "<table border=\"1\" class=\"dataframe\">\n",
       "  <thead>\n",
       "    <tr style=\"text-align: right;\">\n",
       "      <th></th>\n",
       "      <th>user_id</th>\n",
       "      <th>counts</th>\n",
       "      <th>title</th>\n",
       "    </tr>\n",
       "  </thead>\n",
       "  <tbody>\n",
       "    <tr>\n",
       "      <th>0</th>\n",
       "      <td>1</td>\n",
       "      <td>5</td>\n",
       "      <td>One Flew Over the Cuckoo's Nest</td>\n",
       "    </tr>\n",
       "    <tr>\n",
       "      <th>1</th>\n",
       "      <td>1</td>\n",
       "      <td>3</td>\n",
       "      <td>James and the Giant Peach</td>\n",
       "    </tr>\n",
       "    <tr>\n",
       "      <th>2</th>\n",
       "      <td>1</td>\n",
       "      <td>3</td>\n",
       "      <td>My Fair Lady</td>\n",
       "    </tr>\n",
       "    <tr>\n",
       "      <th>3</th>\n",
       "      <td>1</td>\n",
       "      <td>4</td>\n",
       "      <td>Erin Brockovich</td>\n",
       "    </tr>\n",
       "    <tr>\n",
       "      <th>4</th>\n",
       "      <td>1</td>\n",
       "      <td>5</td>\n",
       "      <td>Bug's Life, A</td>\n",
       "    </tr>\n",
       "  </tbody>\n",
       "</table>\n",
       "</div>"
      ],
      "text/plain": [
       "   user_id  counts                            title\n",
       "0        1       5  One Flew Over the Cuckoo's Nest\n",
       "1        1       3        James and the Giant Peach\n",
       "2        1       3                     My Fair Lady\n",
       "3        1       4                  Erin Brockovich\n",
       "4        1       5                    Bug's Life, A"
      ]
     },
     "execution_count": 11,
     "metadata": {},
     "output_type": "execute_result"
    }
   ],
   "source": [
    "ratings.head()"
   ]
  },
  {
   "cell_type": "markdown",
   "metadata": {
    "id": "OOH4MczoXG1c"
   },
   "source": [
    "## 2) 분석해 봅시다.\n"
   ]
  },
  {
   "cell_type": "markdown",
   "metadata": {
    "id": "mKX8RjDkXJSj"
   },
   "source": [
    "- ratings에 있는 유니크한 영화 개수\n"
   ]
  },
  {
   "cell_type": "code",
   "execution_count": 12,
   "metadata": {
    "colab": {
     "base_uri": "https://localhost:8080/"
    },
    "executionInfo": {
     "elapsed": 358,
     "status": "ok",
     "timestamp": 1666951927577,
     "user": {
      "displayName": "김종태",
      "userId": "06122921812067136763"
     },
     "user_tz": -540
    },
    "id": "f9tmuP6XWxu5",
    "outputId": "62997557-2f07-488b-bf5d-ccafc5b85d0b"
   },
   "outputs": [
    {
     "data": {
      "text/plain": [
       "3586"
      ]
     },
     "execution_count": 12,
     "metadata": {},
     "output_type": "execute_result"
    }
   ],
   "source": [
    "# 유니크 영화개수\n",
    "ratings['title'].nunique()"
   ]
  },
  {
   "cell_type": "markdown",
   "metadata": {
    "id": "f-o2YbM4XLTR"
   },
   "source": [
    "- ratings에 있는 유니크한 사용자 수\n"
   ]
  },
  {
   "cell_type": "code",
   "execution_count": 13,
   "metadata": {
    "colab": {
     "base_uri": "https://localhost:8080/"
    },
    "executionInfo": {
     "elapsed": 9,
     "status": "ok",
     "timestamp": 1666951927578,
     "user": {
      "displayName": "김종태",
      "userId": "06122921812067136763"
     },
     "user_tz": -540
    },
    "id": "m_Arh0FNXMuN",
    "outputId": "aabd4f96-f76c-4c13-db5b-b8f2a2647361"
   },
   "outputs": [
    {
     "data": {
      "text/plain": [
       "6039"
      ]
     },
     "execution_count": 13,
     "metadata": {},
     "output_type": "execute_result"
    }
   ],
   "source": [
    "# 유니크한 사용자 수\n",
    "ratings['user_id'].nunique()"
   ]
  },
  {
   "cell_type": "markdown",
   "metadata": {
    "id": "8SdIu-IrXNjv"
   },
   "source": [
    "- 가장 인기 있는 영화 30개(인기순)"
   ]
  },
  {
   "cell_type": "code",
   "execution_count": 14,
   "metadata": {
    "colab": {
     "base_uri": "https://localhost:8080/"
    },
    "executionInfo": {
     "elapsed": 7,
     "status": "ok",
     "timestamp": 1666951927579,
     "user": {
      "displayName": "김종태",
      "userId": "06122921812067136763"
     },
     "user_tz": -540
    },
    "id": "IrRhFeybXOoq",
    "outputId": "419a6fba-e291-43d7-adb5-2376318bcc38"
   },
   "outputs": [
    {
     "data": {
      "text/plain": [
       "title\n",
       "American Beauty                                   3211\n",
       "Star Wars: Episode IV - A New Hope                2910\n",
       "Star Wars: Episode V - The Empire Strikes Back    2885\n",
       "Star Wars: Episode VI - Return of the Jedi        2716\n",
       "Saving Private Ryan                               2561\n",
       "Terminator 2: Judgment Day                        2509\n",
       "Silence of the Lambs, The                         2498\n",
       "Raiders of the Lost Ark                           2473\n",
       "Back to the Future                                2460\n",
       "Matrix, The                                       2434\n",
       "Jurassic Park                                     2413\n",
       "Sixth Sense, The                                  2385\n",
       "Fargo                                             2371\n",
       "Braveheart                                        2314\n",
       "Men in Black                                      2297\n",
       "Schindler's List                                  2257\n",
       "Princess Bride, The                               2252\n",
       "Shakespeare in Love                               2213\n",
       "L.A. Confidential                                 2210\n",
       "Shawshank Redemption, The                         2194\n",
       "Godfather, The                                    2167\n",
       "Groundhog Day                                     2121\n",
       "E.T. the Extra-Terrestrial                        2102\n",
       "Being John Malkovich                              2066\n",
       "Ghostbusters                                      2051\n",
       "Pulp Fiction                                      2030\n",
       "Forrest Gump                                      2022\n",
       "Terminator, The                                   2019\n",
       "Toy Story                                         2000\n",
       "Fugitive, The                                     1941\n",
       "Name: user_id, dtype: int64"
      ]
     },
     "execution_count": 14,
     "metadata": {},
     "output_type": "execute_result"
    }
   ],
   "source": [
    "movie_count = ratings.groupby('title')['user_id'].count()\n",
    "movie_count.sort_values(ascending=False).head(30)"
   ]
  },
  {
   "cell_type": "markdown",
   "metadata": {
    "id": "nEndBgtKXRDw"
   },
   "source": [
    "## 3) 내가 선호하는 영화를 5가지 골라서 ratings에 추가해 줍시다.\n"
   ]
  },
  {
   "cell_type": "code",
   "execution_count": 15,
   "metadata": {
    "colab": {
     "base_uri": "https://localhost:8080/",
     "height": 363
    },
    "executionInfo": {
     "elapsed": 650,
     "status": "ok",
     "timestamp": 1666951928225,
     "user": {
      "displayName": "김종태",
      "userId": "06122921812067136763"
     },
     "user_tz": -540
    },
    "id": "WJA9r1gEXRxr",
    "outputId": "c726b908-56fe-4252-bdc7-af0756de86a5"
   },
   "outputs": [
    {
     "data": {
      "text/html": [
       "<div>\n",
       "<style scoped>\n",
       "    .dataframe tbody tr th:only-of-type {\n",
       "        vertical-align: middle;\n",
       "    }\n",
       "\n",
       "    .dataframe tbody tr th {\n",
       "        vertical-align: top;\n",
       "    }\n",
       "\n",
       "    .dataframe thead th {\n",
       "        text-align: right;\n",
       "    }\n",
       "</style>\n",
       "<table border=\"1\" class=\"dataframe\">\n",
       "  <thead>\n",
       "    <tr style=\"text-align: right;\">\n",
       "      <th></th>\n",
       "      <th>user_id</th>\n",
       "      <th>counts</th>\n",
       "      <th>title</th>\n",
       "    </tr>\n",
       "  </thead>\n",
       "  <tbody>\n",
       "    <tr>\n",
       "      <th>836473</th>\n",
       "      <td>6040</td>\n",
       "      <td>3</td>\n",
       "      <td>Platoon</td>\n",
       "    </tr>\n",
       "    <tr>\n",
       "      <th>836474</th>\n",
       "      <td>6040</td>\n",
       "      <td>5</td>\n",
       "      <td>Crying Game, The</td>\n",
       "    </tr>\n",
       "    <tr>\n",
       "      <th>836475</th>\n",
       "      <td>6040</td>\n",
       "      <td>5</td>\n",
       "      <td>Welcome to the Dollhouse</td>\n",
       "    </tr>\n",
       "    <tr>\n",
       "      <th>836476</th>\n",
       "      <td>6040</td>\n",
       "      <td>4</td>\n",
       "      <td>Sophie's Choice</td>\n",
       "    </tr>\n",
       "    <tr>\n",
       "      <th>836477</th>\n",
       "      <td>6040</td>\n",
       "      <td>4</td>\n",
       "      <td>E.T. the Extra-Terrestrial</td>\n",
       "    </tr>\n",
       "    <tr>\n",
       "      <th>0</th>\n",
       "      <td>jtkim</td>\n",
       "      <td>5</td>\n",
       "      <td>Sixth Sense, The</td>\n",
       "    </tr>\n",
       "    <tr>\n",
       "      <th>1</th>\n",
       "      <td>jtkim</td>\n",
       "      <td>5</td>\n",
       "      <td>Blade Runner</td>\n",
       "    </tr>\n",
       "    <tr>\n",
       "      <th>2</th>\n",
       "      <td>jtkim</td>\n",
       "      <td>5</td>\n",
       "      <td>E.T. the Extra-Terrestrial</td>\n",
       "    </tr>\n",
       "    <tr>\n",
       "      <th>3</th>\n",
       "      <td>jtkim</td>\n",
       "      <td>5</td>\n",
       "      <td>Matrix, The</td>\n",
       "    </tr>\n",
       "    <tr>\n",
       "      <th>4</th>\n",
       "      <td>jtkim</td>\n",
       "      <td>5</td>\n",
       "      <td>Gladiator</td>\n",
       "    </tr>\n",
       "  </tbody>\n",
       "</table>\n",
       "</div>"
      ],
      "text/plain": [
       "       user_id  counts                       title\n",
       "836473    6040       3                     Platoon\n",
       "836474    6040       5            Crying Game, The\n",
       "836475    6040       5    Welcome to the Dollhouse\n",
       "836476    6040       4             Sophie's Choice\n",
       "836477    6040       4  E.T. the Extra-Terrestrial\n",
       "0        jtkim       5            Sixth Sense, The\n",
       "1        jtkim       5                Blade Runner\n",
       "2        jtkim       5  E.T. the Extra-Terrestrial\n",
       "3        jtkim       5                 Matrix, The\n",
       "4        jtkim       5                   Gladiator"
      ]
     },
     "execution_count": 15,
     "metadata": {},
     "output_type": "execute_result"
    }
   ],
   "source": [
    "# 선호하는 영화 5가지 골라서 추가하기\n",
    "my_favorite = ['Sixth Sense, The' , 'Blade Runner' ,'E.T. the Extra-Terrestrial' ,'Matrix, The' ,'Gladiator']\n",
    "\n",
    "# users 에 내정보 추가 : user_id 는 'jtkim'으로 추가하겠습니다.\n",
    "# 영화의 평점은 5점씩 줬다고 가정.\n",
    "my_ratings = pd.DataFrame({'user_id': ['jtkim']*5, 'title': my_favorite, 'counts': [5]*5})\n",
    "\n",
    "if not ratings.isin({'user_id':['jtkim']})['user_id'].any():    # user_id에 'zimin'이라는 데이터가 없다면\n",
    "    ratings = ratings.append(my_ratings)                           # 위에 임의로 만든 my_favorite 데이터를 추가해 줍니다. \n",
    "\n",
    "ratings.tail(10)       # 잘 추가되었는지 확인해 봅시다."
   ]
  },
  {
   "cell_type": "markdown",
   "metadata": {
    "id": "3Jy_Pkr_XUtU"
   },
   "source": [
    "## 4) CSR matrix를 직접 만들어 봅시다.\n"
   ]
  },
  {
   "cell_type": "markdown",
   "metadata": {
    "id": "EzHCSuDyriHw"
   },
   "source": [
    "- CSR \n",
    "  - ratings.user_id\n",
    "  - ratings.movie_id\n",
    "  - ratings.counts \n",
    "\n"
   ]
  },
  {
   "cell_type": "code",
   "execution_count": 16,
   "metadata": {
    "executionInfo": {
     "elapsed": 15,
     "status": "ok",
     "timestamp": 1666951928227,
     "user": {
      "displayName": "김종태",
      "userId": "06122921812067136763"
     },
     "user_tz": -540
    },
    "id": "t87Svn0cxWNc"
   },
   "outputs": [],
   "source": [
    "# 고유한 유저, 영화 찾는 코드\n",
    "user_unique = ratings['user_id'].unique()\n",
    "movie_unique = ratings['title'].unique()\n",
    "\n",
    "# 유저, 아티스트 indexing 하는 코드 idx는 index의 약자입니다.\n",
    "user_id_to_idx = {v:k for k,v in enumerate(user_unique)}\n",
    "movie_id_to_idx = {v:k for k,v in enumerate(movie_unique)}"
   ]
  },
  {
   "cell_type": "code",
   "execution_count": 17,
   "metadata": {
    "colab": {
     "base_uri": "https://localhost:8080/"
    },
    "executionInfo": {
     "elapsed": 15,
     "status": "ok",
     "timestamp": 1666951928228,
     "user": {
      "displayName": "김종태",
      "userId": "06122921812067136763"
     },
     "user_tz": -540
    },
    "id": "4ntTTN6nyBOP",
    "outputId": "d83deeeb-2b6b-4f64-c125-10a8eae347a5"
   },
   "outputs": [
    {
     "name": "stdout",
     "output_type": "stream",
     "text": [
      "6039\n",
      "676\n"
     ]
    }
   ],
   "source": [
    "# 인덱싱이 잘 되었는지 확인해 봅니다. \n",
    "print(user_id_to_idx['jtkim'])    \n",
    "print(movie_id_to_idx['Blade Runner'])"
   ]
  },
  {
   "cell_type": "code",
   "execution_count": 18,
   "metadata": {
    "colab": {
     "base_uri": "https://localhost:8080/",
     "height": 460
    },
    "executionInfo": {
     "elapsed": 382,
     "status": "ok",
     "timestamp": 1666951928599,
     "user": {
      "displayName": "김종태",
      "userId": "06122921812067136763"
     },
     "user_tz": -540
    },
    "id": "cJJXRQntyQzH",
    "outputId": "575daf2d-c7c5-4d00-a70d-8c81c743380f"
   },
   "outputs": [
    {
     "name": "stdout",
     "output_type": "stream",
     "text": [
      "user_id column indexing OK!!\n",
      "title column indexing OK!!\n"
     ]
    },
    {
     "data": {
      "text/html": [
       "<div>\n",
       "<style scoped>\n",
       "    .dataframe tbody tr th:only-of-type {\n",
       "        vertical-align: middle;\n",
       "    }\n",
       "\n",
       "    .dataframe tbody tr th {\n",
       "        vertical-align: top;\n",
       "    }\n",
       "\n",
       "    .dataframe thead th {\n",
       "        text-align: right;\n",
       "    }\n",
       "</style>\n",
       "<table border=\"1\" class=\"dataframe\">\n",
       "  <thead>\n",
       "    <tr style=\"text-align: right;\">\n",
       "      <th></th>\n",
       "      <th>user_id</th>\n",
       "      <th>counts</th>\n",
       "      <th>title</th>\n",
       "    </tr>\n",
       "  </thead>\n",
       "  <tbody>\n",
       "    <tr>\n",
       "      <th>0</th>\n",
       "      <td>0</td>\n",
       "      <td>5</td>\n",
       "      <td>0</td>\n",
       "    </tr>\n",
       "    <tr>\n",
       "      <th>1</th>\n",
       "      <td>0</td>\n",
       "      <td>3</td>\n",
       "      <td>1</td>\n",
       "    </tr>\n",
       "    <tr>\n",
       "      <th>2</th>\n",
       "      <td>0</td>\n",
       "      <td>3</td>\n",
       "      <td>2</td>\n",
       "    </tr>\n",
       "    <tr>\n",
       "      <th>3</th>\n",
       "      <td>0</td>\n",
       "      <td>4</td>\n",
       "      <td>3</td>\n",
       "    </tr>\n",
       "    <tr>\n",
       "      <th>4</th>\n",
       "      <td>0</td>\n",
       "      <td>5</td>\n",
       "      <td>4</td>\n",
       "    </tr>\n",
       "    <tr>\n",
       "      <th>...</th>\n",
       "      <td>...</td>\n",
       "      <td>...</td>\n",
       "      <td>...</td>\n",
       "    </tr>\n",
       "    <tr>\n",
       "      <th>0</th>\n",
       "      <td>6039</td>\n",
       "      <td>5</td>\n",
       "      <td>38</td>\n",
       "    </tr>\n",
       "    <tr>\n",
       "      <th>1</th>\n",
       "      <td>6039</td>\n",
       "      <td>5</td>\n",
       "      <td>676</td>\n",
       "    </tr>\n",
       "    <tr>\n",
       "      <th>2</th>\n",
       "      <td>6039</td>\n",
       "      <td>5</td>\n",
       "      <td>26</td>\n",
       "    </tr>\n",
       "    <tr>\n",
       "      <th>3</th>\n",
       "      <td>6039</td>\n",
       "      <td>5</td>\n",
       "      <td>124</td>\n",
       "    </tr>\n",
       "    <tr>\n",
       "      <th>4</th>\n",
       "      <td>6039</td>\n",
       "      <td>5</td>\n",
       "      <td>67</td>\n",
       "    </tr>\n",
       "  </tbody>\n",
       "</table>\n",
       "<p>836483 rows × 3 columns</p>\n",
       "</div>"
      ],
      "text/plain": [
       "    user_id  counts  title\n",
       "0         0       5      0\n",
       "1         0       3      1\n",
       "2         0       3      2\n",
       "3         0       4      3\n",
       "4         0       5      4\n",
       "..      ...     ...    ...\n",
       "0      6039       5     38\n",
       "1      6039       5    676\n",
       "2      6039       5     26\n",
       "3      6039       5    124\n",
       "4      6039       5     67\n",
       "\n",
       "[836483 rows x 3 columns]"
      ]
     },
     "execution_count": 18,
     "metadata": {},
     "output_type": "execute_result"
    }
   ],
   "source": [
    "# indexing을 통해 데이터 컬럼 내 값을 바꾸는 코드\n",
    "# dictionary 자료형의 get 함수는 https://wikidocs.net/16 을 참고하세요.\n",
    "\n",
    "# user_to_idx.get을 통해 user_id 컬럼의 모든 값을 인덱싱한 Series를 구해 봅시다. \n",
    "# 혹시 정상적으로 인덱싱되지 않은 row가 있다면 인덱스가 NaN이 될 테니 dropna()로 제거합니다. \n",
    "temp_user_data = ratings['user_id'].map(user_id_to_idx.get).dropna()\n",
    "if len(temp_user_data) == len(ratings):   # 모든 row가 정상적으로 인덱싱되었다면\n",
    "    print('user_id column indexing OK!!')\n",
    "    ratings['user_id'] = temp_user_data   # data['user_id']을 인덱싱된 Series로 교체해 줍니다. \n",
    "else:\n",
    "    print('user_id column indexing Fail!!')\n",
    "\n",
    "# movie_id_to_idx 를 통해 title 컬럼도 동일한 방식으로 인덱싱해 줍니다. \n",
    "temp_title_data = ratings['title'].map(movie_id_to_idx.get).dropna()\n",
    "if len(temp_title_data) == len(ratings):\n",
    "    print('title column indexing OK!!')\n",
    "    ratings['title'] = temp_title_data\n",
    "else:\n",
    "    print('title column indexing Fail!!')\n",
    "\n",
    "ratings"
   ]
  },
  {
   "cell_type": "code",
   "execution_count": 19,
   "metadata": {
    "colab": {
     "base_uri": "https://localhost:8080/"
    },
    "executionInfo": {
     "elapsed": 4,
     "status": "ok",
     "timestamp": 1666951928876,
     "user": {
      "displayName": "김종태",
      "userId": "06122921812067136763"
     },
     "user_tz": -540
    },
    "id": "dEv0UvGMXWmB",
    "outputId": "edd21b84-6bea-4305-a7b5-e19d87df24d0"
   },
   "outputs": [
    {
     "data": {
      "text/plain": [
       "<6040x3586 sparse matrix of type '<class 'numpy.int64'>'\n",
       "\twith 834213 stored elements in Compressed Sparse Row format>"
      ]
     },
     "execution_count": 19,
     "metadata": {},
     "output_type": "execute_result"
    }
   ],
   "source": [
    "num_user = ratings['user_id'].nunique()\n",
    "num_movie = ratings['title'].nunique()\n",
    "\n",
    "csr_data = csr_matrix((ratings.counts, (ratings.user_id, ratings.title)), shape= (num_user, num_movie))\n",
    "csr_data"
   ]
  },
  {
   "cell_type": "markdown",
   "metadata": {
    "id": "d5FTI3SFXxCL"
   },
   "source": [
    "## 5) AlternatingLeastSquares 모델을 직접 구성하여 훈련시켜 봅시다.\n"
   ]
  },
  {
   "cell_type": "code",
   "execution_count": 20,
   "metadata": {
    "executionInfo": {
     "elapsed": 3,
     "status": "ok",
     "timestamp": 1666951929583,
     "user": {
      "displayName": "김종태",
      "userId": "06122921812067136763"
     },
     "user_tz": -540
    },
    "id": "F081moQnXxkA"
   },
   "outputs": [],
   "source": [
    "# implicit 라이브러리에서 권장하고 있는 부분입니다. 학습 내용과는 무관합니다.\n",
    "os.environ['OPENBLAS_NUM_THREADS']='1'\n",
    "os.environ['KMP_DUPLICATE_LIB_OK']='True'\n",
    "os.environ['MKL_NUM_THREADS']='1'"
   ]
  },
  {
   "cell_type": "markdown",
   "metadata": {
    "id": "Quqs-6DW10gA"
   },
   "source": [
    "AlternatingLeastSquares 클래스의 init 파라미터\n",
    "\n",
    "- factors : 유저와 아이템의 벡터를 몇 차원으로 할 것인지\n",
    "- regularization : 과적합을 방지하기 위해 정규화 값을 얼마나 사용할 것인지\n",
    "- use_gpu : GPU를 사용할 것인지\n",
    "- iterations : epochs와 같은 의미입니다. 데이터를 몇 번 반복해서 학습할 것인지"
   ]
  },
  {
   "cell_type": "code",
   "execution_count": 21,
   "metadata": {
    "executionInfo": {
     "elapsed": 329,
     "status": "ok",
     "timestamp": 1666951932041,
     "user": {
      "displayName": "김종태",
      "userId": "06122921812067136763"
     },
     "user_tz": -540
    },
    "id": "jBgMeih_1xQh"
   },
   "outputs": [],
   "source": [
    "# Implicit AlternatingLeastSquares 모델의 선언\n",
    "als_model = AlternatingLeastSquares(factors=100\n",
    "                                    , regularization=0.01\n",
    "                                    , use_gpu=False\n",
    "                                    , iterations=15  #epoch\n",
    "                                    , dtype=np.float32\n",
    "                                   )"
   ]
  },
  {
   "cell_type": "code",
   "execution_count": 22,
   "metadata": {
    "colab": {
     "base_uri": "https://localhost:8080/"
    },
    "executionInfo": {
     "elapsed": 313,
     "status": "ok",
     "timestamp": 1666953622872,
     "user": {
      "displayName": "김종태",
      "userId": "06122921812067136763"
     },
     "user_tz": -540
    },
    "id": "Zd2fSYcL19BC",
    "outputId": "3e9c5210-62ce-4acd-804b-cf2c1da751b8"
   },
   "outputs": [
    {
     "data": {
      "text/plain": [
       "<3586x6040 sparse matrix of type '<class 'numpy.int64'>'\n",
       "\twith 834213 stored elements in Compressed Sparse Column format>"
      ]
     },
     "execution_count": 22,
     "metadata": {},
     "output_type": "execute_result"
    }
   ],
   "source": [
    "# als 모델은 input으로 (item X user 꼴의 matrix를 받기 때문에 Transpose해줍니다.)\n",
    "csr_data_transpose = csr_data.T\n",
    "csr_data_transpose"
   ]
  },
  {
   "cell_type": "code",
   "execution_count": 23,
   "metadata": {
    "colab": {
     "base_uri": "https://localhost:8080/",
     "height": 49,
     "referenced_widgets": [
      "c1d4dd06358c4ae2ab14c520893c0a59",
      "174525d9c95b48b8adf30a7d3d8a9442",
      "12d5602eb38f431eb4aa76f166d093c1",
      "5f8a9a711bab4237ab6e7a9a97ac7652",
      "7f94c61db5204c128322fada09175af6",
      "7691b00e4cf4415ea177aad5374bf859",
      "9d05ae55e3e2422baf2c929703119be4",
      "f70481a805b44a1da7b1c9213921e87f",
      "d10fba49e0ad4d8b92ddf08b4308828e",
      "22b839a7ce9044ea9a1993b626b1ceb1",
      "d85230cf4b92453c9c30920a67a48887"
     ]
    },
    "executionInfo": {
     "elapsed": 38085,
     "status": "ok",
     "timestamp": 1666951973043,
     "user": {
      "displayName": "김종태",
      "userId": "06122921812067136763"
     },
     "user_tz": -540
    },
    "id": "etGYmNvM2ByN",
    "outputId": "5c48690d-05e4-4e7a-8be3-267abd26c333"
   },
   "outputs": [
    {
     "data": {
      "application/vnd.jupyter.widget-view+json": {
       "model_id": "44498a86a94048e1aa5913a3a323065d",
       "version_major": 2,
       "version_minor": 0
      },
      "text/plain": [
       "  0%|          | 0/15 [00:00<?, ?it/s]"
      ]
     },
     "metadata": {},
     "output_type": "display_data"
    }
   ],
   "source": [
    "# 모델 훈련\n",
    "als_model.fit(csr_data_transpose)"
   ]
  },
  {
   "cell_type": "markdown",
   "metadata": {
    "id": "YhU-qmcdXyzb"
   },
   "source": [
    "## 6) 내가 선호하는 5가지 영화 중 하나와 그 외의 영화 하나를 골라 훈련된 모델이 예측한 나의 선호도를 파악해 보세요.\n"
   ]
  },
  {
   "cell_type": "code",
   "execution_count": 24,
   "metadata": {
    "colab": {
     "base_uri": "https://localhost:8080/"
    },
    "executionInfo": {
     "elapsed": 422,
     "status": "ok",
     "timestamp": 1666951976416,
     "user": {
      "displayName": "김종태",
      "userId": "06122921812067136763"
     },
     "user_tz": -540
    },
    "id": "977KFBKe3Kob",
    "outputId": "9c160be9-5cb9-4687-d743-07281bac2703"
   },
   "outputs": [
    {
     "data": {
      "text/plain": [
       "0.44589403"
      ]
     },
     "execution_count": 24,
     "metadata": {},
     "output_type": "execute_result"
    }
   ],
   "source": [
    "# blade_runner와의 선호도 조사\n",
    "myid, blade_runner = user_id_to_idx['jtkim'], movie_id_to_idx['Blade Runner']    \n",
    "myid_vector, blade_runner_vector = als_model.user_factors[myid], als_model.item_factors[blade_runner]\n",
    "np.dot(myid_vector, blade_runner_vector)"
   ]
  },
  {
   "cell_type": "markdown",
   "metadata": {
    "id": "IVT0oRyQFZBy"
   },
   "source": [
    "영화의 선호도는 0.45정도로 작게 나왔습니다."
   ]
  },
  {
   "cell_type": "code",
   "execution_count": 42,
   "metadata": {},
   "outputs": [
    {
     "name": "stdout",
     "output_type": "stream",
     "text": [
      "100\n"
     ]
    },
    {
     "data": {
      "text/plain": [
       "array([-3.24977130e-01, -1.19394697e-01, -7.46301174e-01, -2.45933726e-01,\n",
       "        1.64863512e-01, -3.61543804e-01, -9.79064941e-01, -5.33214211e-01,\n",
       "       -4.19719994e-01,  4.18325663e-01,  7.96327233e-01,  5.09014845e-01,\n",
       "       -1.22957513e-01, -7.75169909e-01,  6.70604110e-01, -9.42979157e-01,\n",
       "       -3.20040971e-01,  3.12115401e-01,  6.11353517e-01, -2.58416593e-01,\n",
       "        2.95872480e-01,  1.97605386e-01,  5.90662062e-01, -2.13441238e-01,\n",
       "       -2.38253608e-01,  1.00875735e-01,  1.71050102e-01, -3.75525266e-01,\n",
       "       -7.40274191e-01, -5.95644474e-01, -3.74566734e-01,  1.50425649e+00,\n",
       "        8.72083679e-02,  2.38723651e-01,  2.11015433e-01,  5.23512602e-01,\n",
       "        5.10532856e-01,  4.27586645e-01, -9.32792723e-02, -4.84426677e-01,\n",
       "       -9.60310027e-02,  6.56233251e-01, -9.61580515e-01,  6.47515416e-01,\n",
       "       -2.28026435e-01,  4.10660774e-01, -1.73608765e-01, -4.42298710e-01,\n",
       "       -7.07598776e-02, -1.88090280e-02, -3.83341402e-01,  1.59869060e-01,\n",
       "        2.44314782e-02, -4.79086280e-01,  5.06804347e-01, -8.90324488e-02,\n",
       "        4.55753058e-01, -3.03190917e-01,  1.58322468e-01,  5.42777956e-01,\n",
       "       -5.10170221e-01,  5.57124257e-01,  4.23849493e-01, -4.69730735e-01,\n",
       "       -3.02778572e-01, -1.35354018e+00, -1.91119239e-01, -5.70257545e-01,\n",
       "       -4.13461685e-01, -9.40559626e-01, -5.85185587e-01,  1.45457578e+00,\n",
       "       -7.73046911e-01,  7.83197045e-01, -5.30365705e-01, -1.02857210e-01,\n",
       "        2.25948930e-01,  2.52406057e-02,  1.06148708e+00,  2.88405865e-01,\n",
       "        8.49426270e-01,  4.94110376e-01,  6.85601473e-01,  6.31898865e-02,\n",
       "        7.47166514e-01, -4.78609025e-01, -9.50937390e-01,  8.14921141e-01,\n",
       "        7.20462799e-01, -3.87067765e-01,  4.99760896e-01, -2.22158864e-01,\n",
       "        3.37734014e-01,  3.45699668e-01,  3.38405371e-01, -1.55409008e-01,\n",
       "       -1.22014282e-03,  4.15523827e-01, -4.36230808e-01,  7.26295710e-01],\n",
       "      dtype=float32)"
      ]
     },
     "execution_count": 42,
     "metadata": {},
     "output_type": "execute_result"
    }
   ],
   "source": [
    "# 벡터 살펴보기\n",
    "print(len(myid_vector))\n",
    "myid_vector"
   ]
  },
  {
   "cell_type": "code",
   "execution_count": 44,
   "metadata": {},
   "outputs": [
    {
     "name": "stdout",
     "output_type": "stream",
     "text": [
      "(100,)\n"
     ]
    },
    {
     "data": {
      "text/plain": [
       "array([ 1.53260734e-02, -6.34238264e-03,  7.61292549e-03, -5.23720346e-02,\n",
       "        3.62354405e-02, -1.72227365e-03, -1.98763590e-02, -8.38518888e-03,\n",
       "        1.12484032e-02,  1.34450058e-02,  1.79978088e-02,  2.01587360e-02,\n",
       "        6.37268880e-04, -3.93640399e-02,  2.17739772e-02,  9.99022275e-03,\n",
       "       -1.13224061e-02,  2.06819307e-02,  3.01403776e-02, -1.74234863e-02,\n",
       "        2.10723523e-02,  1.38937659e-03, -3.09627457e-03, -8.51127505e-03,\n",
       "        1.73236127e-03,  1.06582865e-02,  8.15299992e-03, -1.29253604e-02,\n",
       "       -8.65885708e-03,  9.08248650e-04, -2.67288312e-02,  3.66512164e-02,\n",
       "        1.28841102e-02, -3.22185690e-03,  3.82014387e-03,  2.13699974e-03,\n",
       "        8.56345613e-03,  3.43214758e-02, -5.46856783e-03,  9.91615350e-04,\n",
       "        3.38278798e-04,  6.75647566e-03, -4.06468846e-03,  2.46602260e-02,\n",
       "        1.23941787e-02,  8.90651718e-03,  1.21946801e-02, -2.44310871e-02,\n",
       "       -8.89317319e-03,  2.17966409e-03,  5.00119757e-03, -3.03213077e-04,\n",
       "        1.95639636e-02, -1.39432903e-02, -7.53916940e-03,  1.68219060e-02,\n",
       "        2.28628702e-02,  2.51114951e-03,  1.05602038e-03, -1.56737268e-02,\n",
       "       -2.11205576e-02,  3.90227942e-04,  2.96032969e-02, -1.54952640e-02,\n",
       "        1.66465528e-02,  3.09456809e-05,  1.68225709e-02, -2.98085646e-03,\n",
       "       -6.31391630e-03,  9.40709375e-03, -7.11639877e-04,  2.64751408e-02,\n",
       "        3.04606240e-02,  2.64194515e-02,  2.29618642e-02, -1.73488185e-02,\n",
       "       -1.82401147e-02,  3.11343148e-02,  9.79128759e-03,  1.38628650e-02,\n",
       "        2.94503458e-02, -6.16013911e-03,  1.87874679e-02,  1.39022479e-02,\n",
       "        3.14287730e-02,  1.87280402e-02, -1.50628174e-02,  1.83687173e-02,\n",
       "        1.65707823e-02,  6.85252342e-03,  3.10246702e-02, -1.95083325e-03,\n",
       "       -7.84492213e-03,  9.59831115e-04,  2.17492450e-02, -5.09236124e-04,\n",
       "        1.35044055e-02,  3.17594856e-02,  5.74932061e-03,  2.25243112e-03],\n",
       "      dtype=float32)"
      ]
     },
     "execution_count": 44,
     "metadata": {},
     "output_type": "execute_result"
    }
   ],
   "source": [
    "print(blade_runner_vector.shape)\n",
    "blade_runner_vector"
   ]
  },
  {
   "cell_type": "code",
   "execution_count": 25,
   "metadata": {
    "colab": {
     "base_uri": "https://localhost:8080/"
    },
    "executionInfo": {
     "elapsed": 310,
     "status": "ok",
     "timestamp": 1666952206705,
     "user": {
      "displayName": "김종태",
      "userId": "06122921812067136763"
     },
     "user_tz": -540
    },
    "id": "Wv8D4L-zXzP3",
    "outputId": "e719c9f0-4e2f-46d5-f893-ddeb2ec24091"
   },
   "outputs": [
    {
     "data": {
      "text/plain": [
       "0.08460458"
      ]
     },
     "execution_count": 25,
     "metadata": {},
     "output_type": "execute_result"
    }
   ],
   "source": [
    "# 다른 영화 (Men in Black) 과의 선호도 조사 \n",
    "\n",
    "other_movie = movie_id_to_idx['Men in Black']                   # movie_id : 541 = 'Blade Runner (1982)'\n",
    "othermovie_vector = als_model.item_factors[other_movie]\n",
    "np.dot(myid_vector, othermovie_vector)"
   ]
  },
  {
   "cell_type": "markdown",
   "metadata": {
    "id": "jwIkKrxaGCZi"
   },
   "source": [
    "선택하지 않은 영화는 선호도가 확실히 낮게 나오긴 하네요"
   ]
  },
  {
   "cell_type": "markdown",
   "metadata": {
    "id": "l9yfGw0nX1_t"
   },
   "source": [
    "## 7) 내가 좋아하는 영화와 비슷한 영화를 추천받아 봅시다.\n"
   ]
  },
  {
   "cell_type": "code",
   "execution_count": 26,
   "metadata": {
    "colab": {
     "base_uri": "https://localhost:8080/"
    },
    "executionInfo": {
     "elapsed": 308,
     "status": "ok",
     "timestamp": 1666952356201,
     "user": {
      "displayName": "김종태",
      "userId": "06122921812067136763"
     },
     "user_tz": -540
    },
    "id": "qQC5tfIZX2kn",
    "outputId": "b340b207-3d9f-46fa-8c96-0ffbb0b8c89c"
   },
   "outputs": [
    {
     "data": {
      "text/plain": [
       "[(124, 0.99999994),\n",
       " (92, 0.7947834),\n",
       " (62, 0.6407718),\n",
       " (141, 0.6010488),\n",
       " (200, 0.58655167),\n",
       " (145, 0.5192738),\n",
       " (107, 0.51505303),\n",
       " (375, 0.49242175),\n",
       " (175, 0.46254376),\n",
       " (75, 0.4462058),\n",
       " (317, 0.4348753),\n",
       " (44, 0.4025045),\n",
       " (430, 0.3849527),\n",
       " (236, 0.38163343),\n",
       " (3416, 0.36358827)]"
      ]
     },
     "execution_count": 26,
     "metadata": {},
     "output_type": "execute_result"
    }
   ],
   "source": [
    "favorite_movie = 'Matrix, The'           # 메트릭스와 비슷한 영화를 추천받기\n",
    "movie_id = movie_id_to_idx[favorite_movie]\n",
    "similar_movies = als_model.similar_items(movie_id, N=15)\n",
    "similar_movies                    "
   ]
  },
  {
   "cell_type": "code",
   "execution_count": 28,
   "metadata": {
    "colab": {
     "base_uri": "https://localhost:8080/"
    },
    "executionInfo": {
     "elapsed": 395,
     "status": "ok",
     "timestamp": 1666952996974,
     "user": {
      "displayName": "김종태",
      "userId": "06122921812067136763"
     },
     "user_tz": -540
    },
    "id": "uh55HuQZGrMU",
    "outputId": "fcb683b0-9387-4e0d-c5ac-2cef0e98e91c"
   },
   "outputs": [
    {
     "data": {
      "text/plain": [
       "['Matrix, The',\n",
       " 'Terminator 2: Judgment Day',\n",
       " 'Total Recall',\n",
       " 'Fugitive, The',\n",
       " 'Terminator, The',\n",
       " 'Fifth Element, The',\n",
       " 'Jurassic Park',\n",
       " 'Face/Off',\n",
       " 'Men in Black',\n",
       " 'Hunt for Red October, The',\n",
       " 'Twelve Monkeys',\n",
       " 'Star Wars: Episode IV - A New Hope',\n",
       " 'Gattaca',\n",
       " 'Speed',\n",
       " 'Second Jungle Book: Mowgli & Baloo, The']"
      ]
     },
     "execution_count": 28,
     "metadata": {},
     "output_type": "execute_result"
    }
   ],
   "source": [
    "# movie_id_to_idx 를 뒤집어, index로부터 movie 이름을 얻는 dict를 생성합니다. \n",
    "idx_to_movie = {v:k for k,v in movie_id_to_idx.items()}\n",
    "[idx_to_movie[i[0]] for i in similar_movies]"
   ]
  },
  {
   "cell_type": "markdown",
   "metadata": {
    "id": "YZo6-Mc1JGyx"
   },
   "source": [
    "제가 다 좋아하는 영화들입니다. 추천을 잘 해주는 것 같습니다."
   ]
  },
  {
   "cell_type": "code",
   "execution_count": 29,
   "metadata": {
    "executionInfo": {
     "elapsed": 292,
     "status": "ok",
     "timestamp": 1666953310793,
     "user": {
      "displayName": "김종태",
      "userId": "06122921812067136763"
     },
     "user_tz": -540
    },
    "id": "LbOkbKzgX4oU"
   },
   "outputs": [],
   "source": [
    "# 함수로 만들기 \n",
    "def get_similar_movie(favorite_movie: str):\n",
    "    movie_id = movie_id_to_idx[favorite_movie]\n",
    "    similar_movies = als_model.similar_items(movie_id)\n",
    "    similar_movie = [idx_to_movie[i[0]] for i in similar_movies]\n",
    "    return similar_movie"
   ]
  },
  {
   "cell_type": "code",
   "execution_count": 30,
   "metadata": {
    "colab": {
     "base_uri": "https://localhost:8080/"
    },
    "executionInfo": {
     "elapsed": 298,
     "status": "ok",
     "timestamp": 1666953351918,
     "user": {
      "displayName": "김종태",
      "userId": "06122921812067136763"
     },
     "user_tz": -540
    },
    "id": "bwzA8_66JeX3",
    "outputId": "e4399f07-71dd-4fca-9af9-080a67cc6d41"
   },
   "outputs": [
    {
     "data": {
      "text/plain": [
       "['Face/Off',\n",
       " 'Fifth Element, The',\n",
       " 'Negotiator, The',\n",
       " 'Enemy of the State',\n",
       " 'Rock, The',\n",
       " 'Total Recall',\n",
       " 'Long Kiss Goodnight, The',\n",
       " 'Matrix, The',\n",
       " 'Independence Day (ID4)',\n",
       " 'Con Air']"
      ]
     },
     "execution_count": 30,
     "metadata": {},
     "output_type": "execute_result"
    }
   ],
   "source": [
    "# 함수 확인\n",
    "get_similar_movie('Face/Off')"
   ]
  },
  {
   "cell_type": "markdown",
   "metadata": {
    "id": "4R3ZbjtjX4Ax"
   },
   "source": [
    "## 8) 내가 가장 좋아할 만한 영화들을 추천받아 봅시다.\n"
   ]
  },
  {
   "cell_type": "code",
   "execution_count": 31,
   "metadata": {
    "colab": {
     "base_uri": "https://localhost:8080/"
    },
    "executionInfo": {
     "elapsed": 281,
     "status": "ok",
     "timestamp": 1666953719967,
     "user": {
      "displayName": "김종태",
      "userId": "06122921812067136763"
     },
     "user_tz": -540
    },
    "id": "gX9IeRpXLxmP",
    "outputId": "4342473a-dccd-4832-d184-77f8b5a84352"
   },
   "outputs": [
    {
     "data": {
      "text/plain": [
       "<6040x3586 sparse matrix of type '<class 'numpy.int64'>'\n",
       "\twith 834213 stored elements in Compressed Sparse Row format>"
      ]
     },
     "execution_count": 31,
     "metadata": {},
     "output_type": "execute_result"
    }
   ],
   "source": [
    "csr_data"
   ]
  },
  {
   "cell_type": "code",
   "execution_count": 34,
   "metadata": {
    "colab": {
     "base_uri": "https://localhost:8080/",
     "height": 390
    },
    "executionInfo": {
     "elapsed": 429,
     "status": "error",
     "timestamp": 1666953779619,
     "user": {
      "displayName": "김종태",
      "userId": "06122921812067136763"
     },
     "user_tz": -540
    },
    "id": "MsyqOn6zKcaX",
    "outputId": "2979bfb7-24e3-4439-9035-f1a14758e29f"
   },
   "outputs": [
    {
     "data": {
      "text/plain": [
       "[(92, 0.43914154),\n",
       " (200, 0.40091097),\n",
       " (346, 0.34043658),\n",
       " (22, 0.33604246),\n",
       " (224, 0.3159176),\n",
       " (372, 0.31247795),\n",
       " (647, 0.2967812),\n",
       " (599, 0.28381777),\n",
       " (317, 0.28092152),\n",
       " (44, 0.28033403),\n",
       " (481, 0.27538204),\n",
       " (60, 0.2685219),\n",
       " (117, 0.26777464),\n",
       " (91, 0.2660874),\n",
       " (121, 0.26513904),\n",
       " (273, 0.26198155),\n",
       " (193, 0.25806588),\n",
       " (233, 0.24928221),\n",
       " (99, 0.2441332),\n",
       " (478, 0.24320519)]"
      ]
     },
     "execution_count": 34,
     "metadata": {},
     "output_type": "execute_result"
    }
   ],
   "source": [
    "user_idx = user_id_to_idx['jtkim']\n",
    "\n",
    "# recommend에서는 user*item CSR Matrix를 받습니다.\n",
    "movie_recommended = als_model.recommend(user_idx\n",
    "                                         , csr_data\n",
    "                                         , N=20, filter_already_liked_items=True\n",
    "                                         )\n",
    "movie_recommended"
   ]
  },
  {
   "cell_type": "code",
   "execution_count": 35,
   "metadata": {},
   "outputs": [
    {
     "data": {
      "text/plain": [
       "['Terminator 2: Judgment Day',\n",
       " 'Terminator, The',\n",
       " 'Patriot, The',\n",
       " 'Back to the Future',\n",
       " 'L.A. Confidential',\n",
       " 'X-Men',\n",
       " 'Aliens',\n",
       " '2001: A Space Odyssey',\n",
       " 'Twelve Monkeys',\n",
       " 'Star Wars: Episode IV - A New Hope',\n",
       " 'Mission: Impossible 2',\n",
       " 'Star Wars: Episode I - The Phantom Menace',\n",
       " 'Star Wars: Episode V - The Empire Strikes Back',\n",
       " 'Close Encounters of the Third Kind',\n",
       " 'Silence of the Lambs, The',\n",
       " 'Fight Club',\n",
       " 'Alien',\n",
       " 'Usual Suspects, The',\n",
       " 'American Beauty',\n",
       " 'Contact']"
      ]
     },
     "execution_count": 35,
     "metadata": {},
     "output_type": "execute_result"
    }
   ],
   "source": [
    "[idx_to_movie[i[0]] for i in movie_recommended]"
   ]
  },
  {
   "cell_type": "markdown",
   "metadata": {},
   "source": [
    "X-men 추천해 주고 있네요. explain 메서드를 사용해 제가 기록을 남긴 데이터 중 이 추천에 기여한 정도를 확인해 보겠습니다."
   ]
  },
  {
   "cell_type": "code",
   "execution_count": 39,
   "metadata": {},
   "outputs": [
    {
     "data": {
      "text/plain": [
       "[('Gladiator', 0.18522010910303788),\n",
       " ('Matrix, The', 0.11449544651806609),\n",
       " ('Blade Runner', 0.0365091550881506),\n",
       " ('Sixth Sense, The', -0.01276246777741988),\n",
       " ('E.T. the Extra-Terrestrial', -0.014417530848555713)]"
      ]
     },
     "execution_count": 39,
     "metadata": {},
     "output_type": "execute_result"
    }
   ],
   "source": [
    "X_Men = movie_id_to_idx['X-Men']\n",
    "explain = als_model.explain(user_idx, csr_data, itemid=X_Men)\n",
    "[(idx_to_movie[i[0]], i[1]) for i in explain[1]]"
   ]
  },
  {
   "cell_type": "markdown",
   "metadata": {},
   "source": [
    "Gladiator와 Matrix가 큰 기여를 했네요. 이번 주말에는 X-men을 봐야겠습니다. "
   ]
  },
  {
   "cell_type": "markdown",
   "metadata": {
    "id": "ZiXvG2VRYjVp"
   },
   "source": [
    "## 회고"
   ]
  },
  {
   "cell_type": "markdown",
   "metadata": {},
   "source": [
    "- user X item 행렬을 CSR 행렬로 만들어 데이터량을 줄이고 예측을 빠르게 할 수 있다는 아이디어에 감탄했습니다.\n",
    "- Matrix Factorization도 간단한 라이브러리를 이용해 구성할 수 있다니 신기했습니다.\n",
    "- ratings의 timestpemp나 movies의 genre 또는 users에 있는 성별, 나이? 등의 다른 데이터도 추천에 고려할 수 있는 방법이 있을지 고민해 보고 싶었습니다.\n",
    "- 단순히 2차원(행렬) 데이터로 만드는 것이 아닌 다차원의 데이터도 가능하지 않을까 생각해 봤습니다. 예를들어 영화, 책, 음악, 게임 등을 추천 할 때 소비자가 각각 어떤 성격의 컨텐츠를 소비하는 지에 대한 데이터가 있다면 다차원의 MF를 구성할 수 있지 않을까하는 생각입니다.\n",
    "  \n",
    "  \n",
    "<br>\n",
    "감사합니다."
   ]
  }
 ],
 "metadata": {
  "colab": {
   "authorship_tag": "ABX9TyPZbh+hSDmAi7T/odbnjwc3",
   "collapsed_sections": [],
   "mount_file_id": "1X8QaMoqj2rnUkx6p2zOuUF2KHc3kSosV",
   "provenance": [],
   "toc_visible": true
  },
  "kernelspec": {
   "display_name": "Python 3 (ipykernel)",
   "language": "python",
   "name": "python3"
  },
  "language_info": {
   "codemirror_mode": {
    "name": "ipython",
    "version": 3
   },
   "file_extension": ".py",
   "mimetype": "text/x-python",
   "name": "python",
   "nbconvert_exporter": "python",
   "pygments_lexer": "ipython3",
   "version": "3.9.7"
  },
  "widgets": {
   "application/vnd.jupyter.widget-state+json": {
    "12d5602eb38f431eb4aa76f166d093c1": {
     "model_module": "@jupyter-widgets/controls",
     "model_module_version": "1.5.0",
     "model_name": "FloatProgressModel",
     "state": {
      "_dom_classes": [],
      "_model_module": "@jupyter-widgets/controls",
      "_model_module_version": "1.5.0",
      "_model_name": "FloatProgressModel",
      "_view_count": null,
      "_view_module": "@jupyter-widgets/controls",
      "_view_module_version": "1.5.0",
      "_view_name": "ProgressView",
      "bar_style": "success",
      "description": "",
      "description_tooltip": null,
      "layout": "IPY_MODEL_f70481a805b44a1da7b1c9213921e87f",
      "max": 15,
      "min": 0,
      "orientation": "horizontal",
      "style": "IPY_MODEL_d10fba49e0ad4d8b92ddf08b4308828e",
      "value": 15
     }
    },
    "174525d9c95b48b8adf30a7d3d8a9442": {
     "model_module": "@jupyter-widgets/controls",
     "model_module_version": "1.5.0",
     "model_name": "HTMLModel",
     "state": {
      "_dom_classes": [],
      "_model_module": "@jupyter-widgets/controls",
      "_model_module_version": "1.5.0",
      "_model_name": "HTMLModel",
      "_view_count": null,
      "_view_module": "@jupyter-widgets/controls",
      "_view_module_version": "1.5.0",
      "_view_name": "HTMLView",
      "description": "",
      "description_tooltip": null,
      "layout": "IPY_MODEL_7691b00e4cf4415ea177aad5374bf859",
      "placeholder": "​",
      "style": "IPY_MODEL_9d05ae55e3e2422baf2c929703119be4",
      "value": "100%"
     }
    },
    "22b839a7ce9044ea9a1993b626b1ceb1": {
     "model_module": "@jupyter-widgets/base",
     "model_module_version": "1.2.0",
     "model_name": "LayoutModel",
     "state": {
      "_model_module": "@jupyter-widgets/base",
      "_model_module_version": "1.2.0",
      "_model_name": "LayoutModel",
      "_view_count": null,
      "_view_module": "@jupyter-widgets/base",
      "_view_module_version": "1.2.0",
      "_view_name": "LayoutView",
      "align_content": null,
      "align_items": null,
      "align_self": null,
      "border": null,
      "bottom": null,
      "display": null,
      "flex": null,
      "flex_flow": null,
      "grid_area": null,
      "grid_auto_columns": null,
      "grid_auto_flow": null,
      "grid_auto_rows": null,
      "grid_column": null,
      "grid_gap": null,
      "grid_row": null,
      "grid_template_areas": null,
      "grid_template_columns": null,
      "grid_template_rows": null,
      "height": null,
      "justify_content": null,
      "justify_items": null,
      "left": null,
      "margin": null,
      "max_height": null,
      "max_width": null,
      "min_height": null,
      "min_width": null,
      "object_fit": null,
      "object_position": null,
      "order": null,
      "overflow": null,
      "overflow_x": null,
      "overflow_y": null,
      "padding": null,
      "right": null,
      "top": null,
      "visibility": null,
      "width": null
     }
    },
    "5f8a9a711bab4237ab6e7a9a97ac7652": {
     "model_module": "@jupyter-widgets/controls",
     "model_module_version": "1.5.0",
     "model_name": "HTMLModel",
     "state": {
      "_dom_classes": [],
      "_model_module": "@jupyter-widgets/controls",
      "_model_module_version": "1.5.0",
      "_model_name": "HTMLModel",
      "_view_count": null,
      "_view_module": "@jupyter-widgets/controls",
      "_view_module_version": "1.5.0",
      "_view_name": "HTMLView",
      "description": "",
      "description_tooltip": null,
      "layout": "IPY_MODEL_22b839a7ce9044ea9a1993b626b1ceb1",
      "placeholder": "​",
      "style": "IPY_MODEL_d85230cf4b92453c9c30920a67a48887",
      "value": " 15/15 [00:37&lt;00:00,  2.43s/it]"
     }
    },
    "7691b00e4cf4415ea177aad5374bf859": {
     "model_module": "@jupyter-widgets/base",
     "model_module_version": "1.2.0",
     "model_name": "LayoutModel",
     "state": {
      "_model_module": "@jupyter-widgets/base",
      "_model_module_version": "1.2.0",
      "_model_name": "LayoutModel",
      "_view_count": null,
      "_view_module": "@jupyter-widgets/base",
      "_view_module_version": "1.2.0",
      "_view_name": "LayoutView",
      "align_content": null,
      "align_items": null,
      "align_self": null,
      "border": null,
      "bottom": null,
      "display": null,
      "flex": null,
      "flex_flow": null,
      "grid_area": null,
      "grid_auto_columns": null,
      "grid_auto_flow": null,
      "grid_auto_rows": null,
      "grid_column": null,
      "grid_gap": null,
      "grid_row": null,
      "grid_template_areas": null,
      "grid_template_columns": null,
      "grid_template_rows": null,
      "height": null,
      "justify_content": null,
      "justify_items": null,
      "left": null,
      "margin": null,
      "max_height": null,
      "max_width": null,
      "min_height": null,
      "min_width": null,
      "object_fit": null,
      "object_position": null,
      "order": null,
      "overflow": null,
      "overflow_x": null,
      "overflow_y": null,
      "padding": null,
      "right": null,
      "top": null,
      "visibility": null,
      "width": null
     }
    },
    "7f94c61db5204c128322fada09175af6": {
     "model_module": "@jupyter-widgets/base",
     "model_module_version": "1.2.0",
     "model_name": "LayoutModel",
     "state": {
      "_model_module": "@jupyter-widgets/base",
      "_model_module_version": "1.2.0",
      "_model_name": "LayoutModel",
      "_view_count": null,
      "_view_module": "@jupyter-widgets/base",
      "_view_module_version": "1.2.0",
      "_view_name": "LayoutView",
      "align_content": null,
      "align_items": null,
      "align_self": null,
      "border": null,
      "bottom": null,
      "display": null,
      "flex": null,
      "flex_flow": null,
      "grid_area": null,
      "grid_auto_columns": null,
      "grid_auto_flow": null,
      "grid_auto_rows": null,
      "grid_column": null,
      "grid_gap": null,
      "grid_row": null,
      "grid_template_areas": null,
      "grid_template_columns": null,
      "grid_template_rows": null,
      "height": null,
      "justify_content": null,
      "justify_items": null,
      "left": null,
      "margin": null,
      "max_height": null,
      "max_width": null,
      "min_height": null,
      "min_width": null,
      "object_fit": null,
      "object_position": null,
      "order": null,
      "overflow": null,
      "overflow_x": null,
      "overflow_y": null,
      "padding": null,
      "right": null,
      "top": null,
      "visibility": null,
      "width": null
     }
    },
    "9d05ae55e3e2422baf2c929703119be4": {
     "model_module": "@jupyter-widgets/controls",
     "model_module_version": "1.5.0",
     "model_name": "DescriptionStyleModel",
     "state": {
      "_model_module": "@jupyter-widgets/controls",
      "_model_module_version": "1.5.0",
      "_model_name": "DescriptionStyleModel",
      "_view_count": null,
      "_view_module": "@jupyter-widgets/base",
      "_view_module_version": "1.2.0",
      "_view_name": "StyleView",
      "description_width": ""
     }
    },
    "c1d4dd06358c4ae2ab14c520893c0a59": {
     "model_module": "@jupyter-widgets/controls",
     "model_module_version": "1.5.0",
     "model_name": "HBoxModel",
     "state": {
      "_dom_classes": [],
      "_model_module": "@jupyter-widgets/controls",
      "_model_module_version": "1.5.0",
      "_model_name": "HBoxModel",
      "_view_count": null,
      "_view_module": "@jupyter-widgets/controls",
      "_view_module_version": "1.5.0",
      "_view_name": "HBoxView",
      "box_style": "",
      "children": [
       "IPY_MODEL_174525d9c95b48b8adf30a7d3d8a9442",
       "IPY_MODEL_12d5602eb38f431eb4aa76f166d093c1",
       "IPY_MODEL_5f8a9a711bab4237ab6e7a9a97ac7652"
      ],
      "layout": "IPY_MODEL_7f94c61db5204c128322fada09175af6"
     }
    },
    "d10fba49e0ad4d8b92ddf08b4308828e": {
     "model_module": "@jupyter-widgets/controls",
     "model_module_version": "1.5.0",
     "model_name": "ProgressStyleModel",
     "state": {
      "_model_module": "@jupyter-widgets/controls",
      "_model_module_version": "1.5.0",
      "_model_name": "ProgressStyleModel",
      "_view_count": null,
      "_view_module": "@jupyter-widgets/base",
      "_view_module_version": "1.2.0",
      "_view_name": "StyleView",
      "bar_color": null,
      "description_width": ""
     }
    },
    "d85230cf4b92453c9c30920a67a48887": {
     "model_module": "@jupyter-widgets/controls",
     "model_module_version": "1.5.0",
     "model_name": "DescriptionStyleModel",
     "state": {
      "_model_module": "@jupyter-widgets/controls",
      "_model_module_version": "1.5.0",
      "_model_name": "DescriptionStyleModel",
      "_view_count": null,
      "_view_module": "@jupyter-widgets/base",
      "_view_module_version": "1.2.0",
      "_view_name": "StyleView",
      "description_width": ""
     }
    },
    "f70481a805b44a1da7b1c9213921e87f": {
     "model_module": "@jupyter-widgets/base",
     "model_module_version": "1.2.0",
     "model_name": "LayoutModel",
     "state": {
      "_model_module": "@jupyter-widgets/base",
      "_model_module_version": "1.2.0",
      "_model_name": "LayoutModel",
      "_view_count": null,
      "_view_module": "@jupyter-widgets/base",
      "_view_module_version": "1.2.0",
      "_view_name": "LayoutView",
      "align_content": null,
      "align_items": null,
      "align_self": null,
      "border": null,
      "bottom": null,
      "display": null,
      "flex": null,
      "flex_flow": null,
      "grid_area": null,
      "grid_auto_columns": null,
      "grid_auto_flow": null,
      "grid_auto_rows": null,
      "grid_column": null,
      "grid_gap": null,
      "grid_row": null,
      "grid_template_areas": null,
      "grid_template_columns": null,
      "grid_template_rows": null,
      "height": null,
      "justify_content": null,
      "justify_items": null,
      "left": null,
      "margin": null,
      "max_height": null,
      "max_width": null,
      "min_height": null,
      "min_width": null,
      "object_fit": null,
      "object_position": null,
      "order": null,
      "overflow": null,
      "overflow_x": null,
      "overflow_y": null,
      "padding": null,
      "right": null,
      "top": null,
      "visibility": null,
      "width": null
     }
    }
   }
  }
 },
 "nbformat": 4,
 "nbformat_minor": 1
}
