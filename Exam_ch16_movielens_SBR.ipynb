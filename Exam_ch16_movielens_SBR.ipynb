{
 "cells": [
  {
   "cell_type": "markdown",
   "id": "286d45dd",
   "metadata": {},
   "source": [
    "# 16-6. 프로젝트 - Movielens 영화 SBR\n"
   ]
  },
  {
   "cell_type": "markdown",
   "id": "a1908bbb",
   "metadata": {},
   "source": [
    "Movielens 1M Dataset을 기반으로, Session based Recommendation 시스템 제작"
   ]
  },
  {
   "cell_type": "code",
   "execution_count": 1,
   "id": "d31e4169",
   "metadata": {},
   "outputs": [
    {
     "name": "stdout",
     "output_type": "stream",
     "text": [
      "2.6.0\n"
     ]
    }
   ],
   "source": [
    "import os\n",
    "import numpy as np\n",
    "import pandas as pd\n",
    "import matplotlib.pyplot as plt\n",
    "\n",
    "import datetime as dt\n",
    "from pathlib import Path\n",
    "\n",
    "import tensorflow\n",
    "import warnings\n",
    "warnings.filterwarnings('ignore')\n",
    "\n",
    "print(tensorflow.__version__)"
   ]
  },
  {
   "cell_type": "code",
   "execution_count": 2,
   "id": "91a2dbfc",
   "metadata": {},
   "outputs": [],
   "source": [
    "data_path = Path(os.getenv('HOME')+'/aiffel/yoochoose/data/') \n",
    "train_path = data_path / 'ratings.dat'\n",
    "\n",
    "def load_data(data_path: Path, nrows=None):\n",
    "    data = pd.read_csv(data_path, sep='::', header=None, usecols=[0, 1, 2, 3], dtype={0: np.int32, 1: np.int32, 2: np.int32}, nrows=nrows)\n",
    "    data.columns = ['UserId', 'ItemId', 'Rating', 'Time']\n",
    "    return data\n",
    "\n",
    "data = load_data(train_path, None)\n",
    "data.sort_values(['UserId', 'Time'], inplace=True)  # data를 id와 시간 순서로 정렬해줍니다.\n",
    "\n",
    "data['Time'] = pd.to_datetime(data['Time'], unit='s') #시간 형식 변경\n"
   ]
  },
  {
   "cell_type": "code",
   "execution_count": 3,
   "id": "1f0cdcc6",
   "metadata": {},
   "outputs": [
    {
     "data": {
      "text/html": [
       "<div>\n",
       "<style scoped>\n",
       "    .dataframe tbody tr th:only-of-type {\n",
       "        vertical-align: middle;\n",
       "    }\n",
       "\n",
       "    .dataframe tbody tr th {\n",
       "        vertical-align: top;\n",
       "    }\n",
       "\n",
       "    .dataframe thead th {\n",
       "        text-align: right;\n",
       "    }\n",
       "</style>\n",
       "<table border=\"1\" class=\"dataframe\">\n",
       "  <thead>\n",
       "    <tr style=\"text-align: right;\">\n",
       "      <th></th>\n",
       "      <th>UserId</th>\n",
       "      <th>ItemId</th>\n",
       "      <th>Rating</th>\n",
       "      <th>Time</th>\n",
       "    </tr>\n",
       "  </thead>\n",
       "  <tbody>\n",
       "    <tr>\n",
       "      <th>774571</th>\n",
       "      <td>4620</td>\n",
       "      <td>1473</td>\n",
       "      <td>3</td>\n",
       "      <td>2000-07-20 20:10:10</td>\n",
       "    </tr>\n",
       "    <tr>\n",
       "      <th>276537</th>\n",
       "      <td>1671</td>\n",
       "      <td>2029</td>\n",
       "      <td>4</td>\n",
       "      <td>2002-07-19 21:08:44</td>\n",
       "    </tr>\n",
       "    <tr>\n",
       "      <th>9700</th>\n",
       "      <td>65</td>\n",
       "      <td>2471</td>\n",
       "      <td>4</td>\n",
       "      <td>2001-07-08 04:20:39</td>\n",
       "    </tr>\n",
       "    <tr>\n",
       "      <th>428300</th>\n",
       "      <td>2605</td>\n",
       "      <td>2716</td>\n",
       "      <td>2</td>\n",
       "      <td>2000-11-09 05:31:17</td>\n",
       "    </tr>\n",
       "    <tr>\n",
       "      <th>221733</th>\n",
       "      <td>1340</td>\n",
       "      <td>2021</td>\n",
       "      <td>1</td>\n",
       "      <td>2000-11-21 03:16:36</td>\n",
       "    </tr>\n",
       "  </tbody>\n",
       "</table>\n",
       "</div>"
      ],
      "text/plain": [
       "        UserId  ItemId  Rating                Time\n",
       "774571    4620    1473       3 2000-07-20 20:10:10\n",
       "276537    1671    2029       4 2002-07-19 21:08:44\n",
       "9700        65    2471       4 2001-07-08 04:20:39\n",
       "428300    2605    2716       2 2000-11-09 05:31:17\n",
       "221733    1340    2021       1 2000-11-21 03:16:36"
      ]
     },
     "execution_count": 3,
     "metadata": {},
     "output_type": "execute_result"
    }
   ],
   "source": [
    "data.sample(5)"
   ]
  },
  {
   "cell_type": "markdown",
   "id": "df2008a6",
   "metadata": {},
   "source": [
    "여기서 이전 실습 내역과 가장 크게 다른 부분은 바로 SessionID 대신 UserID 항목이 들어갔다는 점입니다. 이 데이터셋은 명확한 1회 세션의 SessionID를 포함하지 않고 있습니다. 그래서 이번에는 UserID가 SessionID 역할을 해야 합니다.\n",
    "\n",
    "Rating 정보가 포함되어 있습니다. 이전 실습 내역에서는 이런 항목이 포함되어 있지 않았으므로, 무시하고 제외할 수 있습니다. 하지만, 직전에 봤던 영화가 맘에 들었는지가 비슷한 영화를 더 고르게 하는 것과 상관이 있을 수도 있습니다. 아울러, Rating이 낮은 데이터를 어떻게 처리할지도 고민해야 합니다.\n",
    "\n",
    "Time 항목에는 UTC time 가 포함되어, 1970년 1월 1일부터 경과된 초 단위 시간이 기재되어 있습니다.\n",
    "\n",
    "위와 같은 정보를 바탕으로 오늘의 실습과정과 유사한 프로젝트 과정을 진행해 보겠습니다."
   ]
  },
  {
   "cell_type": "markdown",
   "id": "9365fc3a",
   "metadata": {},
   "source": [
    "## Step 1. 데이터의 전처리\n"
   ]
  },
  {
   "cell_type": "markdown",
   "id": "3f6e7cb6",
   "metadata": {},
   "source": [
    "위와 같이 간단히 구성해 본 데이터셋을 꼼꼼히 살펴보면서 항목별 기본 분석, session length, session time, cleaning 등의 작업을 진행합니다.\n",
    "특히, 이 데이터셋에서는 Session이 아닌 UserID 단위로 데이터가 생성되어 있으므로, 이를 Session 단위로 어떻게 해석할지에 주의합니다."
   ]
  },
  {
   "cell_type": "code",
   "execution_count": 4,
   "id": "e3a445c9",
   "metadata": {},
   "outputs": [
    {
     "data": {
      "text/plain": [
       "(6040, 3706)"
      ]
     },
     "execution_count": 4,
     "metadata": {},
     "output_type": "execute_result"
    }
   ],
   "source": [
    "# 유저수, 아이템 수 확인\n",
    "data['UserId'].nunique(), data['ItemId'].nunique()"
   ]
  },
  {
   "cell_type": "code",
   "execution_count": 5,
   "id": "be5b4b08",
   "metadata": {},
   "outputs": [
    {
     "data": {
      "text/plain": [
       "UserId\n",
       "1        53\n",
       "2       129\n",
       "3        51\n",
       "4        21\n",
       "5       198\n",
       "       ... \n",
       "6036    888\n",
       "6037    202\n",
       "6038     20\n",
       "6039    123\n",
       "6040    341\n",
       "Length: 6040, dtype: int64"
      ]
     },
     "execution_count": 5,
     "metadata": {},
     "output_type": "execute_result"
    }
   ],
   "source": [
    "#각 유저가 대략 몇 개의 데이터를 갖는지 확인\n",
    "session_length = data.groupby('UserId').size()\n",
    "session_length"
   ]
  },
  {
   "cell_type": "code",
   "execution_count": 6,
   "id": "542d05a8",
   "metadata": {},
   "outputs": [
    {
     "data": {
      "text/plain": [
       "Rating\n",
       "1     56174\n",
       "2    107557\n",
       "3    261197\n",
       "4    348971\n",
       "5    226310\n",
       "dtype: int64"
      ]
     },
     "execution_count": 6,
     "metadata": {},
     "output_type": "execute_result"
    }
   ],
   "source": [
    "ratings = data.groupby('Rating').size()\n",
    "ratings"
   ]
  },
  {
   "cell_type": "code",
   "execution_count": 7,
   "id": "9c34e3df",
   "metadata": {},
   "outputs": [],
   "source": [
    "# rating 3이하 제거\n",
    "\n",
    "min_rating = 3\n",
    "data = data[data['Rating'] > 3] "
   ]
  },
  {
   "cell_type": "code",
   "execution_count": 8,
   "id": "3884e633",
   "metadata": {},
   "outputs": [
    {
     "name": "stdout",
     "output_type": "stream",
     "text": [
      "중앙값: 96.0\n",
      "평균값: 165.6\n",
      "최소값: 20.0\n",
      "최대값: 2314.0\n",
      "\n"
     ]
    }
   ],
   "source": [
    "#중앙값, 평균, 최소, 최대\n",
    "med, mean, mn, mx = (  session_length.median() \n",
    "                    , session_length.mean() \n",
    "                    , session_length.min()  \n",
    "                    , session_length.max()\n",
    "                    )\n",
    "print(    f'중앙값: {med :.1f}\\n'\n",
    "          f'평균값: {mean:.1f}\\n'\n",
    "          f'최소값: {mn :.1f}\\n'\n",
    "          f'최대값: {mx :.1f}\\n'\n",
    "    )"
   ]
  },
  {
   "cell_type": "code",
   "execution_count": 9,
   "id": "ac29e011",
   "metadata": {},
   "outputs": [
    {
     "data": {
      "text/plain": [
       "1343.181000000005"
      ]
     },
     "execution_count": 9,
     "metadata": {},
     "output_type": "execute_result"
    }
   ],
   "source": [
    "# 분위수 (99.9%)\n",
    "\n",
    "session_length.quantile(0.999)"
   ]
  },
  {
   "cell_type": "code",
   "execution_count": 10,
   "id": "af439f33",
   "metadata": {},
   "outputs": [
    {
     "data": {
      "text/html": [
       "<div>\n",
       "<style scoped>\n",
       "    .dataframe tbody tr th:only-of-type {\n",
       "        vertical-align: middle;\n",
       "    }\n",
       "\n",
       "    .dataframe tbody tr th {\n",
       "        vertical-align: top;\n",
       "    }\n",
       "\n",
       "    .dataframe thead th {\n",
       "        text-align: right;\n",
       "    }\n",
       "</style>\n",
       "<table border=\"1\" class=\"dataframe\">\n",
       "  <thead>\n",
       "    <tr style=\"text-align: right;\">\n",
       "      <th></th>\n",
       "      <th>UserId</th>\n",
       "      <th>ItemId</th>\n",
       "      <th>Rating</th>\n",
       "      <th>Time</th>\n",
       "    </tr>\n",
       "  </thead>\n",
       "  <tbody>\n",
       "    <tr>\n",
       "      <th>696969</th>\n",
       "      <td>4169</td>\n",
       "      <td>1268</td>\n",
       "      <td>5</td>\n",
       "      <td>2000-08-03 20:09:52</td>\n",
       "    </tr>\n",
       "    <tr>\n",
       "      <th>697168</th>\n",
       "      <td>4169</td>\n",
       "      <td>2617</td>\n",
       "      <td>4</td>\n",
       "      <td>2000-08-03 20:09:52</td>\n",
       "    </tr>\n",
       "    <tr>\n",
       "      <th>697185</th>\n",
       "      <td>4169</td>\n",
       "      <td>2628</td>\n",
       "      <td>4</td>\n",
       "      <td>2000-08-03 20:09:52</td>\n",
       "    </tr>\n",
       "    <tr>\n",
       "      <th>697219</th>\n",
       "      <td>4169</td>\n",
       "      <td>2653</td>\n",
       "      <td>4</td>\n",
       "      <td>2000-08-03 20:09:52</td>\n",
       "    </tr>\n",
       "    <tr>\n",
       "      <th>696168</th>\n",
       "      <td>4169</td>\n",
       "      <td>3801</td>\n",
       "      <td>5</td>\n",
       "      <td>2000-08-03 20:11:21</td>\n",
       "    </tr>\n",
       "    <tr>\n",
       "      <th>...</th>\n",
       "      <td>...</td>\n",
       "      <td>...</td>\n",
       "      <td>...</td>\n",
       "      <td>...</td>\n",
       "    </tr>\n",
       "    <tr>\n",
       "      <th>697590</th>\n",
       "      <td>4169</td>\n",
       "      <td>1749</td>\n",
       "      <td>4</td>\n",
       "      <td>2002-03-18 22:47:36</td>\n",
       "    </tr>\n",
       "    <tr>\n",
       "      <th>696075</th>\n",
       "      <td>4169</td>\n",
       "      <td>2811</td>\n",
       "      <td>4</td>\n",
       "      <td>2002-03-18 22:59:38</td>\n",
       "    </tr>\n",
       "    <tr>\n",
       "      <th>696870</th>\n",
       "      <td>4169</td>\n",
       "      <td>3916</td>\n",
       "      <td>4</td>\n",
       "      <td>2002-04-07 20:38:20</td>\n",
       "    </tr>\n",
       "    <tr>\n",
       "      <th>697647</th>\n",
       "      <td>4169</td>\n",
       "      <td>3377</td>\n",
       "      <td>4</td>\n",
       "      <td>2002-04-07 20:53:08</td>\n",
       "    </tr>\n",
       "    <tr>\n",
       "      <th>697358</th>\n",
       "      <td>4169</td>\n",
       "      <td>494</td>\n",
       "      <td>4</td>\n",
       "      <td>2002-06-15 21:16:00</td>\n",
       "    </tr>\n",
       "  </tbody>\n",
       "</table>\n",
       "<p>1210 rows × 4 columns</p>\n",
       "</div>"
      ],
      "text/plain": [
       "        UserId  ItemId  Rating                Time\n",
       "696969    4169    1268       5 2000-08-03 20:09:52\n",
       "697168    4169    2617       4 2000-08-03 20:09:52\n",
       "697185    4169    2628       4 2000-08-03 20:09:52\n",
       "697219    4169    2653       4 2000-08-03 20:09:52\n",
       "696168    4169    3801       5 2000-08-03 20:11:21\n",
       "...        ...     ...     ...                 ...\n",
       "697590    4169    1749       4 2002-03-18 22:47:36\n",
       "696075    4169    2811       4 2002-03-18 22:59:38\n",
       "696870    4169    3916       4 2002-04-07 20:38:20\n",
       "697647    4169    3377       4 2002-04-07 20:53:08\n",
       "697358    4169     494       4 2002-06-15 21:16:00\n",
       "\n",
       "[1210 rows x 4 columns]"
      ]
     },
     "execution_count": 10,
     "metadata": {},
     "output_type": "execute_result"
    }
   ],
   "source": [
    "# 최대값인 2314는 어떤 값인지 확인\n",
    "\n",
    "long_session = session_length[session_length == 2314].index[0]\n",
    "data[data['UserId'] == long_session]"
   ]
  },
  {
   "cell_type": "markdown",
   "id": "8e39d481",
   "metadata": {},
   "source": [
    "먼가 초반에 보지도 않고 무작위로 누른 느낌적인 느낌이 있음."
   ]
  },
  {
   "cell_type": "code",
   "execution_count": 47,
   "id": "33d5ab06",
   "metadata": {},
   "outputs": [
    {
     "data": {
      "text/plain": [
       "Text(0.5, 1.0, 'Cumsum Percentage Until 0.999')"
      ]
     },
     "execution_count": 47,
     "metadata": {},
     "output_type": "execute_result"
    },
    {
     "data": {
      "image/png": "[encoded data removed]",
      "text/plain": [
       "<Figure size 864x720 with 1 Axes>"
      ]
     },
     "metadata": {
      "needs_background": "light"
     },
     "output_type": "display_data"
    }
   ],
   "source": [
    "#하위 99.9% 세션 길이 분포 누적합 시각화\n",
    "length_count = session_length.groupby(session_length).size()\n",
    "length_percent_cumsum = length_count.cumsum() / length_count.sum()\n",
    "length_percent_cumsum_999 = length_percent_cumsum[length_percent_cumsum < 0.999]\n",
    "\n",
    "plt.figure(figsize = (12, 10))\n",
    "plt.bar(x = length_percent_cumsum_999.index,\n",
    "        height = length_percent_cumsum_999, color = 'blue')\n",
    "plt.xticks(length_percent_cumsum_999.index)\n",
    "plt.yticks(np.arange(0, 1.01, 0.1))\n",
    "plt.title('Cumsum Percentage Until 0.999', size=20)"
   ]
  },
  {
   "cell_type": "code",
   "execution_count": 12,
   "id": "cca92484",
   "metadata": {},
   "outputs": [
    {
     "name": "stdout",
     "output_type": "stream",
     "text": [
      "2000-04-25 23:05:32\n",
      "2003-02-28 17:49:50\n"
     ]
    }
   ],
   "source": [
    "# 시간 확인\n",
    "\n",
    "oldest, latest = data['Time'].min(), data['Time'].max()\n",
    "\n",
    "print(oldest)\n",
    "print(latest)"
   ]
  },
  {
   "cell_type": "markdown",
   "id": "2c7e4c22",
   "metadata": {},
   "source": [
    "'00년 4월 부터 '03년 2월까지 약 2년 10개월의 데이터"
   ]
  },
  {
   "cell_type": "code",
   "execution_count": 13,
   "id": "32a17e77",
   "metadata": {},
   "outputs": [
    {
     "data": {
      "text/plain": [
       "pandas._libs.tslibs.timestamps.Timestamp"
      ]
     },
     "execution_count": 13,
     "metadata": {},
     "output_type": "execute_result"
    }
   ],
   "source": [
    "type(latest)"
   ]
  },
  {
   "cell_type": "code",
   "execution_count": 16,
   "id": "a4a72a8c",
   "metadata": {},
   "outputs": [],
   "source": [
    "# Data Cleansing\n",
    "\n",
    "# short_session을 제거한 다음 unpopular item을 제거하면 다시 길이가 1인 session이 생길 수 있습니다.\n",
    "# 이를 위해 반복문을 통해 지속적으로 제거 합니다.\n",
    "def cleanse_recursive(data: pd.DataFrame, shortest, least_watch) -> pd.DataFrame:\n",
    "    while True:\n",
    "        before_len = len(data)\n",
    "        data = cleanse_short_session(data, shortest)\n",
    "        data = cleanse_unpopular_item(data, least_watch)\n",
    "        after_len = len(data)\n",
    "        if before_len == after_len:\n",
    "            break\n",
    "    return data\n",
    "\n",
    "def cleanse_short_session(data: pd.DataFrame, shortest):\n",
    "    session_len = data.groupby('UserId').size()\n",
    "    session_use = session_len[session_len >= shortest].index\n",
    "    data = data[data['UserId'].isin(session_use)]\n",
    "    return data\n",
    "\n",
    "def cleanse_unpopular_item(data: pd.DataFrame, least_watch):\n",
    "    item_popular = data.groupby('ItemId').size()\n",
    "    item_use = item_popular[item_popular >= least_watch].index\n",
    "    data = data[data['ItemId'].isin(item_use)]\n",
    "    return data"
   ]
  },
  {
   "cell_type": "code",
   "execution_count": 17,
   "id": "1b221eba",
   "metadata": {},
   "outputs": [
    {
     "data": {
      "text/html": [
       "<div>\n",
       "<style scoped>\n",
       "    .dataframe tbody tr th:only-of-type {\n",
       "        vertical-align: middle;\n",
       "    }\n",
       "\n",
       "    .dataframe tbody tr th {\n",
       "        vertical-align: top;\n",
       "    }\n",
       "\n",
       "    .dataframe thead th {\n",
       "        text-align: right;\n",
       "    }\n",
       "</style>\n",
       "<table border=\"1\" class=\"dataframe\">\n",
       "  <thead>\n",
       "    <tr style=\"text-align: right;\">\n",
       "      <th></th>\n",
       "      <th>UserId</th>\n",
       "      <th>ItemId</th>\n",
       "      <th>Rating</th>\n",
       "      <th>Time</th>\n",
       "    </tr>\n",
       "  </thead>\n",
       "  <tbody>\n",
       "    <tr>\n",
       "      <th>31</th>\n",
       "      <td>1</td>\n",
       "      <td>3186</td>\n",
       "      <td>4</td>\n",
       "      <td>2000-12-31 22:00:19</td>\n",
       "    </tr>\n",
       "    <tr>\n",
       "      <th>22</th>\n",
       "      <td>1</td>\n",
       "      <td>1270</td>\n",
       "      <td>5</td>\n",
       "      <td>2000-12-31 22:00:55</td>\n",
       "    </tr>\n",
       "    <tr>\n",
       "      <th>27</th>\n",
       "      <td>1</td>\n",
       "      <td>1721</td>\n",
       "      <td>4</td>\n",
       "      <td>2000-12-31 22:00:55</td>\n",
       "    </tr>\n",
       "    <tr>\n",
       "      <th>37</th>\n",
       "      <td>1</td>\n",
       "      <td>1022</td>\n",
       "      <td>5</td>\n",
       "      <td>2000-12-31 22:00:55</td>\n",
       "    </tr>\n",
       "    <tr>\n",
       "      <th>36</th>\n",
       "      <td>1</td>\n",
       "      <td>1836</td>\n",
       "      <td>5</td>\n",
       "      <td>2000-12-31 22:02:52</td>\n",
       "    </tr>\n",
       "    <tr>\n",
       "      <th>...</th>\n",
       "      <td>...</td>\n",
       "      <td>...</td>\n",
       "      <td>...</td>\n",
       "      <td>...</td>\n",
       "    </tr>\n",
       "    <tr>\n",
       "      <th>1000119</th>\n",
       "      <td>6040</td>\n",
       "      <td>3671</td>\n",
       "      <td>4</td>\n",
       "      <td>2001-08-10 14:39:27</td>\n",
       "    </tr>\n",
       "    <tr>\n",
       "      <th>999923</th>\n",
       "      <td>6040</td>\n",
       "      <td>232</td>\n",
       "      <td>5</td>\n",
       "      <td>2001-08-10 14:39:58</td>\n",
       "    </tr>\n",
       "    <tr>\n",
       "      <th>1000019</th>\n",
       "      <td>6040</td>\n",
       "      <td>2917</td>\n",
       "      <td>4</td>\n",
       "      <td>2001-08-10 14:40:29</td>\n",
       "    </tr>\n",
       "    <tr>\n",
       "      <th>999988</th>\n",
       "      <td>6040</td>\n",
       "      <td>1921</td>\n",
       "      <td>4</td>\n",
       "      <td>2001-08-10 14:41:04</td>\n",
       "    </tr>\n",
       "    <tr>\n",
       "      <th>1000042</th>\n",
       "      <td>6040</td>\n",
       "      <td>1221</td>\n",
       "      <td>4</td>\n",
       "      <td>2001-08-20 13:44:15</td>\n",
       "    </tr>\n",
       "  </tbody>\n",
       "</table>\n",
       "<p>574384 rows × 4 columns</p>\n",
       "</div>"
      ],
      "text/plain": [
       "         UserId  ItemId  Rating                Time\n",
       "31            1    3186       4 2000-12-31 22:00:19\n",
       "22            1    1270       5 2000-12-31 22:00:55\n",
       "27            1    1721       4 2000-12-31 22:00:55\n",
       "37            1    1022       5 2000-12-31 22:00:55\n",
       "36            1    1836       5 2000-12-31 22:02:52\n",
       "...         ...     ...     ...                 ...\n",
       "1000119    6040    3671       4 2001-08-10 14:39:27\n",
       "999923     6040     232       5 2001-08-10 14:39:58\n",
       "1000019    6040    2917       4 2001-08-10 14:40:29\n",
       "999988     6040    1921       4 2001-08-10 14:41:04\n",
       "1000042    6040    1221       4 2001-08-20 13:44:15\n",
       "\n",
       "[574384 rows x 4 columns]"
      ]
     },
     "execution_count": 17,
     "metadata": {},
     "output_type": "execute_result"
    }
   ],
   "source": [
    "data = cleanse_recursive(data, shortest = 2, least_watch = 5)\n",
    "data"
   ]
  },
  {
   "cell_type": "markdown",
   "id": "1e7b058b",
   "metadata": {},
   "source": [
    "## Step 2. 미니 배치의 구성\n"
   ]
  },
  {
   "cell_type": "markdown",
   "id": "3d3c7612",
   "metadata": {},
   "source": [
    "실습 코드 내역을 참고하여 데이터셋과 미니 배치를 구성해 봅시다. Session-Parallel Mini-Batch의 개념에 따라, 학습 속도의 저하가 최소화될 수 있도록 구성합니다.\n",
    "단, 위 Step 1에서 Session 단위를 어떻게 정의했느냐에 따라서 Session-Parallel Mini-Batch이 굳이 필요하지 않을 수도 있습니다."
   ]
  },
  {
   "cell_type": "code",
   "execution_count": 18,
   "id": "86134c4c",
   "metadata": {},
   "outputs": [],
   "source": [
    "def split_by_date(data: pd.DataFrame, n_days: int):\n",
    "    final_time = data['Time'].max()\n",
    "    session_last_time = data.groupby('UserId')['Time'].max()\n",
    "    session_in_train = session_last_time[session_last_time < final_time - dt.timedelta(n_days)].index\n",
    "    session_in_test = session_last_time[session_last_time >= final_time - dt.timedelta(n_days)].index\n",
    "\n",
    "    before_date = data[data['UserId'].isin(session_in_train)]\n",
    "    after_date = data[data['UserId'].isin(session_in_test)]\n",
    "    after_date = after_date[after_date['ItemId'].isin(before_date['ItemId'])]\n",
    "    return before_date, after_date"
   ]
  },
  {
   "cell_type": "code",
   "execution_count": 19,
   "id": "2f20ef33",
   "metadata": {},
   "outputs": [],
   "source": [
    "#test,val을 1달 기준 데이터로 나눔\n",
    "tr, test = split_by_date(data, 180)\n",
    "tr, val = split_by_date(tr, 180)"
   ]
  },
  {
   "cell_type": "code",
   "execution_count": 20,
   "id": "17849f85",
   "metadata": {},
   "outputs": [],
   "source": [
    "# data에 대한 정보를 살펴봅니다.\n",
    "def stats_info(data: pd.DataFrame, status: str):\n",
    "    print(f'* {status} Set Stats Info\\n'\n",
    "          f'\\t Events: {len(data)}\\n'\n",
    "          f'\\t Users: {data[\"UserId\"].nunique()}\\n'\n",
    "          f'\\t Items: {data[\"ItemId\"].nunique()}\\n'\n",
    "          f'\\t First Time : {data[\"Time\"].min()}\\n'\n",
    "          f'\\t Last Time : {data[\"Time\"].max()}\\n')"
   ]
  },
  {
   "cell_type": "code",
   "execution_count": 21,
   "id": "e4e830b2",
   "metadata": {},
   "outputs": [
    {
     "name": "stdout",
     "output_type": "stream",
     "text": [
      "* train Set Stats Info\n",
      "\t Events: 472369\n",
      "\t Users: 5572\n",
      "\t Items: 3125\n",
      "\t First Time : 2000-04-25 23:05:32\n",
      "\t Last Time : 2002-03-04 22:46:11\n",
      "\n",
      "* valid Set Stats Info\n",
      "\t Events: 29662\n",
      "\t Users: 152\n",
      "\t Items: 2597\n",
      "\t First Time : 2000-04-30 06:38:59\n",
      "\t Last Time : 2002-09-01 00:14:13\n",
      "\n",
      "* test Set Stats Info\n",
      "\t Events: 72353\n",
      "\t Users: 313\n",
      "\t Items: 2933\n",
      "\t First Time : 2000-04-27 16:38:08\n",
      "\t Last Time : 2003-02-28 17:49:50\n",
      "\n"
     ]
    }
   ],
   "source": [
    "stats_info(tr, 'train')\n",
    "stats_info(val, 'valid')\n",
    "stats_info(test, 'test')"
   ]
  },
  {
   "cell_type": "code",
   "execution_count": 22,
   "id": "092cd27c",
   "metadata": {},
   "outputs": [],
   "source": [
    "# train set에 없는 아이템이 val, test기간에 생길 수 있으므로 train data를 기준으로 인덱싱합니다.\n",
    "id2idx = {item_id : index for index, item_id in enumerate(tr['ItemId'].unique())}\n",
    "\n",
    "def indexing(df, id2idx):\n",
    "    df['item_idx'] = df['ItemId'].map(lambda x: id2idx.get(x, -1))  # id2idx에 없는 아이템은 모르는 값(-1) 처리 해줍니다.\n",
    "    return df\n",
    "    \n",
    "tr = indexing(tr, id2idx)\n",
    "val = indexing(val, id2idx)\n",
    "test = indexing(test, id2idx)"
   ]
  },
  {
   "cell_type": "code",
   "execution_count": 23,
   "id": "41d1e6d5",
   "metadata": {},
   "outputs": [],
   "source": [
    "# 저장\n",
    "\n",
    "save_path = data_path / 'processed'\n",
    "save_path.mkdir(parents=True, exist_ok=True)\n",
    "\n",
    "tr.to_pickle(save_path / 'train.pkl')\n",
    "val.to_pickle(save_path / 'valid.pkl')\n",
    "test.to_pickle(save_path / 'test.pkl')"
   ]
  },
  {
   "cell_type": "markdown",
   "id": "fab79117",
   "metadata": {},
   "source": [
    "## Step 3. 모델 구성"
   ]
  },
  {
   "cell_type": "markdown",
   "id": "7659ae90",
   "metadata": {},
   "source": [
    "이 부분도 실습 코드 내역을 참고하여 다양하게 모델 구조를 시도해 볼 수 있습니다.\n",
    "\n"
   ]
  },
  {
   "cell_type": "code",
   "execution_count": 24,
   "id": "ea75480c",
   "metadata": {},
   "outputs": [],
   "source": [
    "class SessionDataset:\n",
    "    \"\"\"Credit to yhs-968/pyGRU4REC.\"\"\"\n",
    "\n",
    "    def __init__(self, data):\n",
    "        self.df = data\n",
    "        self.click_offsets = self.get_click_offsets()\n",
    "        self.session_idx = np.arange(self.df['UserId'].nunique())  # indexing to SessionId\n",
    "\n",
    "    def get_click_offsets(self):\n",
    "        \"\"\"\n",
    "        Return the indexes of the first click of each session IDs,\n",
    "        \"\"\"\n",
    "        offsets = np.zeros(self.df['UserId'].nunique() + 1, dtype=np.int32)\n",
    "        offsets[1:] = self.df.groupby('UserId').size().cumsum()\n",
    "        return offsets"
   ]
  },
  {
   "cell_type": "code",
   "execution_count": 25,
   "id": "4087f719",
   "metadata": {},
   "outputs": [
    {
     "data": {
      "text/html": [
       "<div>\n",
       "<style scoped>\n",
       "    .dataframe tbody tr th:only-of-type {\n",
       "        vertical-align: middle;\n",
       "    }\n",
       "\n",
       "    .dataframe tbody tr th {\n",
       "        vertical-align: top;\n",
       "    }\n",
       "\n",
       "    .dataframe thead th {\n",
       "        text-align: right;\n",
       "    }\n",
       "</style>\n",
       "<table border=\"1\" class=\"dataframe\">\n",
       "  <thead>\n",
       "    <tr style=\"text-align: right;\">\n",
       "      <th></th>\n",
       "      <th>UserId</th>\n",
       "      <th>ItemId</th>\n",
       "      <th>Rating</th>\n",
       "      <th>Time</th>\n",
       "      <th>item_idx</th>\n",
       "    </tr>\n",
       "  </thead>\n",
       "  <tbody>\n",
       "    <tr>\n",
       "      <th>31</th>\n",
       "      <td>1</td>\n",
       "      <td>3186</td>\n",
       "      <td>4</td>\n",
       "      <td>2000-12-31 22:00:19</td>\n",
       "      <td>0</td>\n",
       "    </tr>\n",
       "    <tr>\n",
       "      <th>22</th>\n",
       "      <td>1</td>\n",
       "      <td>1270</td>\n",
       "      <td>5</td>\n",
       "      <td>2000-12-31 22:00:55</td>\n",
       "      <td>1</td>\n",
       "    </tr>\n",
       "    <tr>\n",
       "      <th>27</th>\n",
       "      <td>1</td>\n",
       "      <td>1721</td>\n",
       "      <td>4</td>\n",
       "      <td>2000-12-31 22:00:55</td>\n",
       "      <td>2</td>\n",
       "    </tr>\n",
       "    <tr>\n",
       "      <th>37</th>\n",
       "      <td>1</td>\n",
       "      <td>1022</td>\n",
       "      <td>5</td>\n",
       "      <td>2000-12-31 22:00:55</td>\n",
       "      <td>3</td>\n",
       "    </tr>\n",
       "    <tr>\n",
       "      <th>36</th>\n",
       "      <td>1</td>\n",
       "      <td>1836</td>\n",
       "      <td>5</td>\n",
       "      <td>2000-12-31 22:02:52</td>\n",
       "      <td>4</td>\n",
       "    </tr>\n",
       "    <tr>\n",
       "      <th>3</th>\n",
       "      <td>1</td>\n",
       "      <td>3408</td>\n",
       "      <td>4</td>\n",
       "      <td>2000-12-31 22:04:35</td>\n",
       "      <td>5</td>\n",
       "    </tr>\n",
       "    <tr>\n",
       "      <th>7</th>\n",
       "      <td>1</td>\n",
       "      <td>2804</td>\n",
       "      <td>5</td>\n",
       "      <td>2000-12-31 22:11:59</td>\n",
       "      <td>6</td>\n",
       "    </tr>\n",
       "    <tr>\n",
       "      <th>47</th>\n",
       "      <td>1</td>\n",
       "      <td>1207</td>\n",
       "      <td>4</td>\n",
       "      <td>2000-12-31 22:11:59</td>\n",
       "      <td>7</td>\n",
       "    </tr>\n",
       "    <tr>\n",
       "      <th>0</th>\n",
       "      <td>1</td>\n",
       "      <td>1193</td>\n",
       "      <td>5</td>\n",
       "      <td>2000-12-31 22:12:40</td>\n",
       "      <td>8</td>\n",
       "    </tr>\n",
       "    <tr>\n",
       "      <th>44</th>\n",
       "      <td>1</td>\n",
       "      <td>260</td>\n",
       "      <td>4</td>\n",
       "      <td>2000-12-31 22:12:40</td>\n",
       "      <td>9</td>\n",
       "    </tr>\n",
       "  </tbody>\n",
       "</table>\n",
       "</div>"
      ],
      "text/plain": [
       "    UserId  ItemId  Rating                Time  item_idx\n",
       "31       1    3186       4 2000-12-31 22:00:19         0\n",
       "22       1    1270       5 2000-12-31 22:00:55         1\n",
       "27       1    1721       4 2000-12-31 22:00:55         2\n",
       "37       1    1022       5 2000-12-31 22:00:55         3\n",
       "36       1    1836       5 2000-12-31 22:02:52         4\n",
       "3        1    3408       4 2000-12-31 22:04:35         5\n",
       "7        1    2804       5 2000-12-31 22:11:59         6\n",
       "47       1    1207       4 2000-12-31 22:11:59         7\n",
       "0        1    1193       5 2000-12-31 22:12:40         8\n",
       "44       1     260       4 2000-12-31 22:12:40         9"
      ]
     },
     "execution_count": 25,
     "metadata": {},
     "output_type": "execute_result"
    }
   ],
   "source": [
    "tr_dataset = SessionDataset(tr)\n",
    "tr_dataset.df.head(10)"
   ]
  },
  {
   "cell_type": "code",
   "execution_count": 26,
   "id": "28df0658",
   "metadata": {},
   "outputs": [
    {
     "data": {
      "text/plain": [
       "array([     0,     45,    118, ..., 472066, 472156, 472369], dtype=int32)"
      ]
     },
     "execution_count": 26,
     "metadata": {},
     "output_type": "execute_result"
    }
   ],
   "source": [
    "tr_dataset.click_offsets"
   ]
  },
  {
   "cell_type": "code",
   "execution_count": 27,
   "id": "90bc2e0e",
   "metadata": {},
   "outputs": [
    {
     "data": {
      "text/plain": [
       "array([   0,    1,    2, ..., 5569, 5570, 5571])"
      ]
     },
     "execution_count": 27,
     "metadata": {},
     "output_type": "execute_result"
    }
   ],
   "source": [
    "tr_dataset.session_idx"
   ]
  },
  {
   "cell_type": "code",
   "execution_count": 28,
   "id": "8b96a493",
   "metadata": {},
   "outputs": [],
   "source": [
    "# session data loader\n",
    "\n",
    "class SessionDataLoader:\n",
    "    \"\"\"Credit to yhs-968/pyGRU4REC.\"\"\"\n",
    "\n",
    "    def __init__(self, dataset: SessionDataset, batch_size=64):\n",
    "        self.dataset = dataset\n",
    "        self.batch_size = batch_size\n",
    "\n",
    "    def __iter__(self):\n",
    "        \"\"\" Returns the iterator for producing session-parallel training mini-batches.\n",
    "        Yields:\n",
    "            input (B,):  Item indices that will be encoded as one-hot vectors later.\n",
    "            target (B,): a Variable that stores the target item indices\n",
    "            masks: Numpy array indicating the positions of the sessions to be terminated\n",
    "        \"\"\"\n",
    "\n",
    "        start, end, mask, last_session, finished = self.initialize()  # initialize 메소드에서 확인해주세요.\n",
    "        \"\"\"\n",
    "        start : Index Where Session Start\n",
    "        end : Index Where Session End\n",
    "        mask : indicator for the sessions to be terminated\n",
    "        \"\"\"\n",
    "\n",
    "        while not finished:\n",
    "            min_len = (end - start).min() - 1   # Shortest Length Among Sessions\n",
    "            for i in range(min_len):\n",
    "                # Build inputs & targets\n",
    "                inp = self.dataset.df['item_idx'].values[start + i]\n",
    "                target = self.dataset.df['item_idx'].values[start + i + 1]\n",
    "                yield inp, target, mask\n",
    "\n",
    "            start, end, mask, last_session, finished = self.update_status(start, end, min_len, last_session, finished)\n",
    "\n",
    "    def initialize(self):\n",
    "        first_iters = np.arange(self.batch_size)    # 첫 배치에 사용할 세션 Index를 가져옵니다.\n",
    "        last_session = self.batch_size - 1    # 마지막으로 다루고 있는 세션 Index를 저장해둡니다.\n",
    "        start = self.dataset.click_offsets[self.dataset.session_idx[first_iters]]       # data 상에서 session이 시작된 위치를 가져옵니다.\n",
    "        end = self.dataset.click_offsets[self.dataset.session_idx[first_iters] + 1]  # session이 끝난 위치 바로 다음 위치를 가져옵니다.\n",
    "        mask = np.array([])   # session의 모든 아이템을 다 돌은 경우 mask에 추가해줄 것입니다.\n",
    "        finished = False         # data를 전부 돌았는지 기록하기 위한 변수입니다.\n",
    "        return start, end, mask, last_session, finished\n",
    "\n",
    "    def update_status(self, start: np.ndarray, end: np.ndarray, min_len: int, last_session: int, finished: bool):  \n",
    "        # 다음 배치 데이터를 생성하기 위해 상태를 update합니다.\n",
    "        \n",
    "        start += min_len   # __iter__에서 min_len 만큼 for문을 돌았으므로 start를 min_len 만큼 더해줍니다.\n",
    "        mask = np.arange(self.batch_size)[(end - start) == 1]  \n",
    "        # end는 다음 세션이 시작되는 위치인데 start와 한 칸 차이난다는 것은 session이 끝났다는 뜻입니다. mask에 기록해줍니다.\n",
    "\n",
    "        for i, idx in enumerate(mask, start=1):  # mask에 추가된 세션 개수만큼 새로운 세션을 돌것입니다.\n",
    "            new_session = last_session + i  \n",
    "            if new_session > self.dataset.session_idx[-1]:  # 만약 새로운 세션이 마지막 세션 index보다 크다면 모든 학습데이터를 돈 것입니다.\n",
    "                finished = True\n",
    "                break\n",
    "            # update the next starting/ending point\n",
    "            start[idx] = self.dataset.click_offsets[self.dataset.session_idx[new_session]]     # 종료된 세션 대신 새로운 세션의 시작점을 기록합니다.\n",
    "            end[idx] = self.dataset.click_offsets[self.dataset.session_idx[new_session] + 1]\n",
    "\n",
    "        last_session += len(mask)  # 마지막 세션의 위치를 기록해둡니다.\n",
    "        return start, end, mask, last_session, finished"
   ]
  },
  {
   "cell_type": "code",
   "execution_count": 29,
   "id": "c325baca",
   "metadata": {},
   "outputs": [
    {
     "data": {
      "text/html": [
       "<div>\n",
       "<style scoped>\n",
       "    .dataframe tbody tr th:only-of-type {\n",
       "        vertical-align: middle;\n",
       "    }\n",
       "\n",
       "    .dataframe tbody tr th {\n",
       "        vertical-align: top;\n",
       "    }\n",
       "\n",
       "    .dataframe thead th {\n",
       "        text-align: right;\n",
       "    }\n",
       "</style>\n",
       "<table border=\"1\" class=\"dataframe\">\n",
       "  <thead>\n",
       "    <tr style=\"text-align: right;\">\n",
       "      <th></th>\n",
       "      <th>UserId</th>\n",
       "      <th>ItemId</th>\n",
       "      <th>Rating</th>\n",
       "      <th>Time</th>\n",
       "      <th>item_idx</th>\n",
       "    </tr>\n",
       "  </thead>\n",
       "  <tbody>\n",
       "    <tr>\n",
       "      <th>31</th>\n",
       "      <td>1</td>\n",
       "      <td>3186</td>\n",
       "      <td>4</td>\n",
       "      <td>2000-12-31 22:00:19</td>\n",
       "      <td>0</td>\n",
       "    </tr>\n",
       "    <tr>\n",
       "      <th>22</th>\n",
       "      <td>1</td>\n",
       "      <td>1270</td>\n",
       "      <td>5</td>\n",
       "      <td>2000-12-31 22:00:55</td>\n",
       "      <td>1</td>\n",
       "    </tr>\n",
       "    <tr>\n",
       "      <th>27</th>\n",
       "      <td>1</td>\n",
       "      <td>1721</td>\n",
       "      <td>4</td>\n",
       "      <td>2000-12-31 22:00:55</td>\n",
       "      <td>2</td>\n",
       "    </tr>\n",
       "    <tr>\n",
       "      <th>37</th>\n",
       "      <td>1</td>\n",
       "      <td>1022</td>\n",
       "      <td>5</td>\n",
       "      <td>2000-12-31 22:00:55</td>\n",
       "      <td>3</td>\n",
       "    </tr>\n",
       "    <tr>\n",
       "      <th>36</th>\n",
       "      <td>1</td>\n",
       "      <td>1836</td>\n",
       "      <td>5</td>\n",
       "      <td>2000-12-31 22:02:52</td>\n",
       "      <td>4</td>\n",
       "    </tr>\n",
       "    <tr>\n",
       "      <th>3</th>\n",
       "      <td>1</td>\n",
       "      <td>3408</td>\n",
       "      <td>4</td>\n",
       "      <td>2000-12-31 22:04:35</td>\n",
       "      <td>5</td>\n",
       "    </tr>\n",
       "    <tr>\n",
       "      <th>7</th>\n",
       "      <td>1</td>\n",
       "      <td>2804</td>\n",
       "      <td>5</td>\n",
       "      <td>2000-12-31 22:11:59</td>\n",
       "      <td>6</td>\n",
       "    </tr>\n",
       "    <tr>\n",
       "      <th>47</th>\n",
       "      <td>1</td>\n",
       "      <td>1207</td>\n",
       "      <td>4</td>\n",
       "      <td>2000-12-31 22:11:59</td>\n",
       "      <td>7</td>\n",
       "    </tr>\n",
       "    <tr>\n",
       "      <th>0</th>\n",
       "      <td>1</td>\n",
       "      <td>1193</td>\n",
       "      <td>5</td>\n",
       "      <td>2000-12-31 22:12:40</td>\n",
       "      <td>8</td>\n",
       "    </tr>\n",
       "    <tr>\n",
       "      <th>44</th>\n",
       "      <td>1</td>\n",
       "      <td>260</td>\n",
       "      <td>4</td>\n",
       "      <td>2000-12-31 22:12:40</td>\n",
       "      <td>9</td>\n",
       "    </tr>\n",
       "    <tr>\n",
       "      <th>9</th>\n",
       "      <td>1</td>\n",
       "      <td>919</td>\n",
       "      <td>4</td>\n",
       "      <td>2000-12-31 22:22:48</td>\n",
       "      <td>10</td>\n",
       "    </tr>\n",
       "    <tr>\n",
       "      <th>51</th>\n",
       "      <td>1</td>\n",
       "      <td>608</td>\n",
       "      <td>4</td>\n",
       "      <td>2000-12-31 22:23:18</td>\n",
       "      <td>11</td>\n",
       "    </tr>\n",
       "    <tr>\n",
       "      <th>43</th>\n",
       "      <td>1</td>\n",
       "      <td>2692</td>\n",
       "      <td>4</td>\n",
       "      <td>2000-12-31 22:26:10</td>\n",
       "      <td>12</td>\n",
       "    </tr>\n",
       "    <tr>\n",
       "      <th>41</th>\n",
       "      <td>1</td>\n",
       "      <td>1961</td>\n",
       "      <td>5</td>\n",
       "      <td>2000-12-31 22:26:30</td>\n",
       "      <td>13</td>\n",
       "    </tr>\n",
       "    <tr>\n",
       "      <th>48</th>\n",
       "      <td>1</td>\n",
       "      <td>2028</td>\n",
       "      <td>5</td>\n",
       "      <td>2000-12-31 22:26:59</td>\n",
       "      <td>14</td>\n",
       "    </tr>\n",
       "  </tbody>\n",
       "</table>\n",
       "</div>"
      ],
      "text/plain": [
       "    UserId  ItemId  Rating                Time  item_idx\n",
       "31       1    3186       4 2000-12-31 22:00:19         0\n",
       "22       1    1270       5 2000-12-31 22:00:55         1\n",
       "27       1    1721       4 2000-12-31 22:00:55         2\n",
       "37       1    1022       5 2000-12-31 22:00:55         3\n",
       "36       1    1836       5 2000-12-31 22:02:52         4\n",
       "3        1    3408       4 2000-12-31 22:04:35         5\n",
       "7        1    2804       5 2000-12-31 22:11:59         6\n",
       "47       1    1207       4 2000-12-31 22:11:59         7\n",
       "0        1    1193       5 2000-12-31 22:12:40         8\n",
       "44       1     260       4 2000-12-31 22:12:40         9\n",
       "9        1     919       4 2000-12-31 22:22:48        10\n",
       "51       1     608       4 2000-12-31 22:23:18        11\n",
       "43       1    2692       4 2000-12-31 22:26:10        12\n",
       "41       1    1961       5 2000-12-31 22:26:30        13\n",
       "48       1    2028       5 2000-12-31 22:26:59        14"
      ]
     },
     "execution_count": 29,
     "metadata": {},
     "output_type": "execute_result"
    }
   ],
   "source": [
    "tr_data_loader = SessionDataLoader(tr_dataset, batch_size=64)\n",
    "tr_dataset.df.head(15)"
   ]
  },
  {
   "cell_type": "code",
   "execution_count": 30,
   "id": "f3b83722",
   "metadata": {},
   "outputs": [],
   "source": [
    "iter_ex = iter(tr_data_loader)"
   ]
  },
  {
   "cell_type": "code",
   "execution_count": 31,
   "id": "c76bc64f",
   "metadata": {},
   "outputs": [
    {
     "name": "stdout",
     "output_type": "stream",
     "text": [
      "Model Input Item Idx are : [ 0 45 52 22]\n",
      "Label Item Idx are :       [  1  46 112  56]\n",
      "Previous Masked Input Idx are []\n"
     ]
    }
   ],
   "source": [
    "inputs, labels, mask =  next(iter_ex)\n",
    "print(f'Model Input Item Idx are : {inputs}')\n",
    "print(f'Label Item Idx are : {\"\":5} {labels}')\n",
    "print(f'Previous Masked Input Idx are {mask}')"
   ]
  },
  {
   "cell_type": "markdown",
   "id": "f6d45c6c",
   "metadata": {},
   "source": [
    "## Step 4. 모델 학습\n"
   ]
  },
  {
   "attachments": {
    "image.png": {
     "image/png": "[encoded data removed]"
    }
   },
   "cell_type": "markdown",
   "id": "6ed2416e",
   "metadata": {},
   "source": [
    "다양한 하이퍼파라미터를 변경해 보며 검증해 보도록 합니다. 실습 코드에 언급되었던 Recall, MRR(Mean Reciprocal Rank) 등의 개념들도 함께 관리될 수 있도록 합니다.\n",
    "![image.png](attachment:image.png) \n",
    "<MRR : 추천한 값이 정답에서 몇번째에 위치하는 지 찾고 역수를 취한다음 평균> "
   ]
  },
  {
   "cell_type": "code",
   "execution_count": 32,
   "id": "fc275764",
   "metadata": {},
   "outputs": [],
   "source": [
    "def mrr_k(pred, truth: int, k: int):\n",
    "    indexing = np.where(pred[:k] == truth)[0]\n",
    "    if len(indexing) > 0:\n",
    "        return 1 / (indexing[0] + 1)\n",
    "    else:\n",
    "        return 0\n",
    "\n",
    "\n",
    "def recall_k(pred, truth: int, k: int) -> int:\n",
    "    answer = truth in pred[:k]\n",
    "    return int(answer)"
   ]
  },
  {
   "cell_type": "code",
   "execution_count": 33,
   "id": "b4b81082",
   "metadata": {},
   "outputs": [],
   "source": [
    "# tensorflow import\n",
    "\n",
    "import tensorflow as tf\n",
    "from tensorflow.keras.layers import Input, Dense, Dropout, GRU\n",
    "from tensorflow.keras.losses import categorical_crossentropy\n",
    "from tensorflow.keras.models import Model\n",
    "from tensorflow.keras.optimizers import Adam\n",
    "from tensorflow.keras.utils import to_categorical\n",
    "from tqdm import tqdm"
   ]
  },
  {
   "attachments": {
    "image.png": {
     "image/png": "[encoded data removed]"
    }
   },
   "cell_type": "markdown",
   "id": "d3dbecd8",
   "metadata": {},
   "source": [
    "![image.png](attachment:image.png)  \n",
    "GRU는 LSTM에서 존재했던 기억셀(c)를 삭제하고 파라메터 수를 줄인 모델."
   ]
  },
  {
   "attachments": {
    "image.png": {
     "image/png": "[encoded data removed]"
    }
   },
   "cell_type": "markdown",
   "id": "2aa343c8",
   "metadata": {},
   "source": [
    "![image.png](attachment:image.png)\n",
    "\n",
    "GRU는 총 2개의 게이트 존재. (Reset gate, Update gate)  \n",
    "참고 : https://techblog-history-younghunjo1.tistory.com/486"
   ]
  },
  {
   "attachments": {
    "image.png": {
     "image/png": "[encoded data removed]"
    }
   },
   "cell_type": "markdown",
   "id": "e71373b3",
   "metadata": {},
   "source": [
    "![image.png](attachment:image.png)\n",
    "\n",
    "GRU back-propagation"
   ]
  },
  {
   "cell_type": "code",
   "execution_count": 34,
   "id": "a42ca2a7",
   "metadata": {},
   "outputs": [],
   "source": [
    "def create_model(args):\n",
    "    inputs = Input(batch_shape=(args.batch_size, 1, args.num_items))\n",
    "    gru, _ = GRU(args.hsz, stateful=True, return_state=True, name='GRU')(inputs)\n",
    "    dropout = Dropout(args.drop_rate)(gru)\n",
    "    predictions = Dense(args.num_items, activation='softmax')(dropout)\n",
    "    model = Model(inputs=inputs, outputs=[predictions])\n",
    "    model.compile(loss=categorical_crossentropy\n",
    "                  , optimizer=Adam(args.lr)\n",
    "                  , metrics=['accuracy'])\n",
    "    model.summary()\n",
    "    \n",
    "    return model"
   ]
  },
  {
   "cell_type": "markdown",
   "id": "b7fbe654",
   "metadata": {},
   "source": []
  },
  {
   "cell_type": "code",
   "execution_count": 39,
   "id": "0a7ad9c6",
   "metadata": {},
   "outputs": [],
   "source": [
    "class Args:\n",
    "    def __init__(self, tr, val, test, batch_size, hsz, drop_rate, lr, epochs, k):\n",
    "        self.tr = tr\n",
    "        self.val = val\n",
    "        self.test = test\n",
    "        self.num_items = tr['ItemId'].nunique()\n",
    "        self.num_sessions = tr['UserId'].nunique()\n",
    "        self.batch_size = batch_size\n",
    "        self.hsz = hsz\n",
    "        self.drop_rate = drop_rate\n",
    "        self.lr = lr\n",
    "        self.epochs = epochs\n",
    "        self.k = k\n",
    "\n",
    "args = Args(tr, val, test, batch_size=64, hsz=50\n",
    "            , drop_rate=0.1, lr=0.001, epochs=10, k=20)"
   ]
  },
  {
   "cell_type": "code",
   "execution_count": 40,
   "id": "d0ae1357",
   "metadata": {},
   "outputs": [
    {
     "name": "stdout",
     "output_type": "stream",
     "text": [
      "Model: \"model_1\"\n",
      "_________________________________________________________________\n",
      "Layer (type)                 Output Shape              Param #   \n",
      "=================================================================\n",
      "input_2 (InputLayer)         [(64, 1, 3125)]           0         \n",
      "_________________________________________________________________\n",
      "GRU (GRU)                    [(64, 50), (64, 50)]      476550    \n",
      "_________________________________________________________________\n",
      "dropout_1 (Dropout)          (64, 50)                  0         \n",
      "_________________________________________________________________\n",
      "dense_1 (Dense)              (64, 3125)                159375    \n",
      "=================================================================\n",
      "Total params: 635,925\n",
      "Trainable params: 635,925\n",
      "Non-trainable params: 0\n",
      "_________________________________________________________________\n"
     ]
    }
   ],
   "source": [
    "model = create_model(args)"
   ]
  },
  {
   "cell_type": "code",
   "execution_count": 41,
   "id": "4e4ceebc",
   "metadata": {},
   "outputs": [],
   "source": [
    "# train 셋으로 학습하면서 valid 셋으로 검증합니다.\n",
    "def train_model(model, args):\n",
    "    train_dataset = SessionDataset(args.tr)\n",
    "    train_loader = SessionDataLoader(train_dataset, batch_size=args.batch_size)\n",
    "\n",
    "    for epoch in range(1, args.epochs + 1):\n",
    "        total_step = len(args.tr) - args.tr['UserId'].nunique()\n",
    "        tr_loader = tqdm(train_loader, total=total_step // args.batch_size\n",
    "                         , desc='Train', mininterval=1)\n",
    "        for feat, target, mask in tr_loader:\n",
    "            reset_hidden_states(model, mask)  # 종료된 session은 hidden_state를 초기화합니다. 아래 메서드에서 확인해주세요.\n",
    "\n",
    "            input_ohe = to_categorical(feat, num_classes=args.num_items)\n",
    "            input_ohe = np.expand_dims(input_ohe, axis=1)\n",
    "            target_ohe = to_categorical(target, num_classes=args.num_items)\n",
    "\n",
    "            result = model.train_on_batch(input_ohe, target_ohe)\n",
    "            tr_loader.set_postfix(train_loss=result[0], accuracy = result[1])\n",
    "\n",
    "        val_recall, val_mrr = get_metrics(args.val, model, args, args.k)  # valid set에 대해 검증합니다.\n",
    "\n",
    "        print(f\"\\t - Recall@{args.k} epoch {epoch}: {val_recall:3f}\")\n",
    "        print(f\"\\t - MRR@{args.k}    epoch {epoch}: {val_mrr:3f}\\n\")\n",
    "\n",
    "\n",
    "def reset_hidden_states(model, mask):\n",
    "    gru_layer = model.get_layer(name='GRU')  # model에서 gru layer를 가져옵니다.\n",
    "    hidden_states = gru_layer.states[0].numpy()  # gru_layer의 parameter를 가져옵니다.\n",
    "    for elt in mask:  # mask된 인덱스 즉, 종료된 세션의 인덱스를 돌면서\n",
    "        hidden_states[elt, :] = 0  # parameter를 초기화 합니다.\n",
    "    gru_layer.reset_states(states=hidden_states)\n",
    "\n",
    "\n",
    "def get_metrics(data, model, args, k: int):  # valid셋과 test셋을 평가하는 코드입니다. \n",
    "                                             # train과 거의 같지만 mrr, recall을 구하는 라인이 있습니다.\n",
    "    dataset = SessionDataset(data)\n",
    "    loader = SessionDataLoader(dataset, batch_size=args.batch_size)\n",
    "    recall_list, mrr_list = [], []\n",
    "\n",
    "    total_step = len(data) - data['UserId'].nunique()\n",
    "    for inputs, label, mask in tqdm(loader, total=total_step // args.batch_size, desc='Evaluation', mininterval=1):\n",
    "        reset_hidden_states(model, mask)\n",
    "        input_ohe = to_categorical(inputs, num_classes=args.num_items)\n",
    "        input_ohe = np.expand_dims(input_ohe, axis=1)\n",
    "\n",
    "        pred = model.predict(input_ohe, batch_size=args.batch_size)\n",
    "        pred_arg = tf.argsort(pred, direction='DESCENDING')  # softmax 값이 큰 순서대로 sorting 합니다.\n",
    "\n",
    "        length = len(inputs)\n",
    "        recall_list.extend([recall_k(pred_arg[i], label[i], k) for i in range(length)])\n",
    "        mrr_list.extend([mrr_k(pred_arg[i], label[i], k) for i in range(length)])\n",
    "\n",
    "    recall, mrr = np.mean(recall_list), np.mean(mrr_list)\n",
    "    return recall, mrr"
   ]
  },
  {
   "cell_type": "markdown",
   "id": "6fe937f8",
   "metadata": {},
   "source": [
    "## Step 5. 모델 테스트\n"
   ]
  },
  {
   "cell_type": "markdown",
   "id": "063237b8",
   "metadata": {},
   "source": [
    "미리 구성한 테스트셋을 바탕으로 Recall, MRR 을 확인해 봅니다.\n",
    "\n",
    "\n"
   ]
  },
  {
   "cell_type": "code",
   "execution_count": 42,
   "id": "9efd9939",
   "metadata": {},
   "outputs": [
    {
     "name": "stderr",
     "output_type": "stream",
     "text": [
      "Train:  99%|█████████▉| 7218/7293 [01:25<00:00, 84.71it/s, accuracy=0.0156, train_loss=6.31]\n",
      "Evaluation:  72%|███████▏  | 331/461 [01:40<00:39,  3.29it/s]\n"
     ]
    },
    {
     "name": "stdout",
     "output_type": "stream",
     "text": [
      "\t - Recall@20 epoch 1: 0.184573\n",
      "\t - MRR@20    epoch 1: 0.046436\n",
      "\n"
     ]
    },
    {
     "name": "stderr",
     "output_type": "stream",
     "text": [
      "Train:  99%|█████████▉| 7218/7293 [01:24<00:00, 84.97it/s, accuracy=0.0312, train_loss=5.93]\n",
      "Evaluation:  72%|███████▏  | 331/461 [01:37<00:38,  3.39it/s]\n"
     ]
    },
    {
     "name": "stdout",
     "output_type": "stream",
     "text": [
      "\t - Recall@20 epoch 2: 0.233856\n",
      "\t - MRR@20    epoch 2: 0.061044\n",
      "\n"
     ]
    },
    {
     "name": "stderr",
     "output_type": "stream",
     "text": [
      "Train:  99%|█████████▉| 7218/7293 [01:24<00:00, 85.75it/s, accuracy=0.0469, train_loss=5.8] \n",
      "Evaluation:  72%|███████▏  | 331/461 [01:36<00:38,  3.42it/s]\n"
     ]
    },
    {
     "name": "stdout",
     "output_type": "stream",
     "text": [
      "\t - Recall@20 epoch 3: 0.253588\n",
      "\t - MRR@20    epoch 3: 0.067820\n",
      "\n"
     ]
    },
    {
     "name": "stderr",
     "output_type": "stream",
     "text": [
      "Train:  99%|█████████▉| 7218/7293 [01:23<00:00, 85.94it/s, accuracy=0.0312, train_loss=5.81]\n",
      "Evaluation:  72%|███████▏  | 331/461 [01:36<00:37,  3.44it/s]\n"
     ]
    },
    {
     "name": "stdout",
     "output_type": "stream",
     "text": [
      "\t - Recall@20 epoch 4: 0.263076\n",
      "\t - MRR@20    epoch 4: 0.071763\n",
      "\n"
     ]
    },
    {
     "name": "stderr",
     "output_type": "stream",
     "text": [
      "Train:  99%|█████████▉| 7218/7293 [01:23<00:00, 86.39it/s, accuracy=0.0312, train_loss=5.67]\n",
      "Evaluation:  72%|███████▏  | 331/461 [01:35<00:37,  3.48it/s]\n"
     ]
    },
    {
     "name": "stdout",
     "output_type": "stream",
     "text": [
      "\t - Recall@20 epoch 5: 0.266427\n",
      "\t - MRR@20    epoch 5: 0.074091\n",
      "\n"
     ]
    },
    {
     "name": "stderr",
     "output_type": "stream",
     "text": [
      "Train:  99%|█████████▉| 7218/7293 [01:23<00:00, 86.80it/s, accuracy=0.0312, train_loss=5.66]\n",
      "Evaluation:  72%|███████▏  | 331/461 [01:34<00:37,  3.49it/s]\n"
     ]
    },
    {
     "name": "stdout",
     "output_type": "stream",
     "text": [
      "\t - Recall@20 epoch 6: 0.267938\n",
      "\t - MRR@20    epoch 6: 0.075903\n",
      "\n"
     ]
    },
    {
     "name": "stderr",
     "output_type": "stream",
     "text": [
      "Train:  99%|█████████▉| 7218/7293 [01:22<00:00, 87.16it/s, accuracy=0.0312, train_loss=5.59]\n",
      "Evaluation:  72%|███████▏  | 331/461 [01:34<00:37,  3.50it/s]\n"
     ]
    },
    {
     "name": "stdout",
     "output_type": "stream",
     "text": [
      "\t - Recall@20 epoch 7: 0.270251\n",
      "\t - MRR@20    epoch 7: 0.077124\n",
      "\n"
     ]
    },
    {
     "name": "stderr",
     "output_type": "stream",
     "text": [
      "Train:  99%|█████████▉| 7218/7293 [01:22<00:00, 87.04it/s, accuracy=0.0781, train_loss=5.68]\n",
      "Evaluation:  72%|███████▏  | 331/461 [01:34<00:37,  3.50it/s]\n"
     ]
    },
    {
     "name": "stdout",
     "output_type": "stream",
     "text": [
      "\t - Recall@20 epoch 8: 0.272517\n",
      "\t - MRR@20    epoch 8: 0.078394\n",
      "\n"
     ]
    },
    {
     "name": "stderr",
     "output_type": "stream",
     "text": [
      "Train:  99%|█████████▉| 7218/7293 [01:23<00:00, 86.04it/s, accuracy=0.0469, train_loss=5.63]\n",
      "Evaluation:  72%|███████▏  | 331/461 [01:35<00:37,  3.48it/s]\n"
     ]
    },
    {
     "name": "stdout",
     "output_type": "stream",
     "text": [
      "\t - Recall@20 epoch 9: 0.271903\n",
      "\t - MRR@20    epoch 9: 0.078207\n",
      "\n"
     ]
    },
    {
     "name": "stderr",
     "output_type": "stream",
     "text": [
      "Train:  99%|█████████▉| 7218/7293 [01:23<00:00, 86.21it/s, accuracy=0.0625, train_loss=5.66]\n",
      "Evaluation:  72%|███████▏  | 331/461 [01:35<00:37,  3.47it/s]"
     ]
    },
    {
     "name": "stdout",
     "output_type": "stream",
     "text": [
      "\t - Recall@20 epoch 10: 0.271054\n",
      "\t - MRR@20    epoch 10: 0.078918\n",
      "\n"
     ]
    },
    {
     "name": "stderr",
     "output_type": "stream",
     "text": [
      "\n"
     ]
    }
   ],
   "source": [
    "train_model(model, args)"
   ]
  },
  {
   "cell_type": "markdown",
   "id": "c3e68132",
   "metadata": {},
   "source": [
    "recal@20 최대값은 0.273 정도이고  \n",
    "MRR@20 최대값은 0,079가 나왔습니다.  \n",
    "train_loss는 6.31에서 5.66까지 점진적으로 줄어들고 있습니다."
   ]
  },
  {
   "cell_type": "markdown",
   "id": "78359e4d",
   "metadata": {},
   "source": [
    "## STEP 6. 모델 개선"
   ]
  },
  {
   "cell_type": "markdown",
   "id": "fbeea475",
   "metadata": {},
   "source": [
    "### model_002"
   ]
  },
  {
   "cell_type": "code",
   "execution_count": 52,
   "id": "8abe5827",
   "metadata": {
    "scrolled": false
   },
   "outputs": [
    {
     "name": "stdout",
     "output_type": "stream",
     "text": [
      "Model: \"model_6\"\n",
      "_________________________________________________________________\n",
      "Layer (type)                 Output Shape              Param #   \n",
      "=================================================================\n",
      "input_7 (InputLayer)         [(64, 1, 3125)]           0         \n",
      "_________________________________________________________________\n",
      "GRU (GRU)                    [(64, 100), (64, 100)]    968100    \n",
      "_________________________________________________________________\n",
      "dropout_6 (Dropout)          (64, 100)                 0         \n",
      "_________________________________________________________________\n",
      "dense_6 (Dense)              (64, 3125)                315625    \n",
      "=================================================================\n",
      "Total params: 1,283,725\n",
      "Trainable params: 1,283,725\n",
      "Non-trainable params: 0\n",
      "_________________________________________________________________\n"
     ]
    },
    {
     "name": "stderr",
     "output_type": "stream",
     "text": [
      "Train:  99%|█████████▉| 7218/7293 [01:26<00:00, 83.12it/s, accuracy=0.0156, train_loss=6]   \n",
      "Evaluation:  72%|███████▏  | 331/461 [01:37<00:38,  3.41it/s]\n"
     ]
    },
    {
     "name": "stdout",
     "output_type": "stream",
     "text": [
      "\t - Recall@20 epoch 1: 0.217051\n",
      "\t - MRR@20    epoch 1: 0.056051\n",
      "\n"
     ]
    },
    {
     "name": "stderr",
     "output_type": "stream",
     "text": [
      "Train:  99%|█████████▉| 7218/7293 [01:25<00:00, 84.80it/s, accuracy=0.0156, train_loss=5.66]\n",
      "Evaluation:  72%|███████▏  | 331/461 [01:36<00:37,  3.42it/s]\n"
     ]
    },
    {
     "name": "stdout",
     "output_type": "stream",
     "text": [
      "\t - Recall@20 epoch 2: 0.254107\n",
      "\t - MRR@20    epoch 2: 0.069133\n",
      "\n"
     ]
    },
    {
     "name": "stderr",
     "output_type": "stream",
     "text": [
      "Train:  99%|█████████▉| 7218/7293 [01:25<00:00, 84.38it/s, accuracy=0.0156, train_loss=5.54]\n",
      "Evaluation:  72%|███████▏  | 331/461 [01:35<00:37,  3.45it/s]\n"
     ]
    },
    {
     "name": "stdout",
     "output_type": "stream",
     "text": [
      "\t - Recall@20 epoch 3: 0.269213\n",
      "\t - MRR@20    epoch 3: 0.075010\n",
      "\n"
     ]
    },
    {
     "name": "stderr",
     "output_type": "stream",
     "text": [
      "Train:  99%|█████████▉| 7218/7293 [01:25<00:00, 84.17it/s, accuracy=0.0312, train_loss=5.4] \n",
      "Evaluation:  72%|███████▏  | 331/461 [01:34<00:37,  3.51it/s]\n"
     ]
    },
    {
     "name": "stdout",
     "output_type": "stream",
     "text": [
      "\t - Recall@20 epoch 4: 0.275727\n",
      "\t - MRR@20    epoch 4: 0.077225\n",
      "\n"
     ]
    },
    {
     "name": "stderr",
     "output_type": "stream",
     "text": [
      "Train:  99%|█████████▉| 7218/7293 [01:25<00:00, 84.64it/s, accuracy=0.0312, train_loss=5.4] \n",
      "Evaluation:  72%|███████▏  | 331/461 [01:34<00:37,  3.51it/s]\n"
     ]
    },
    {
     "name": "stdout",
     "output_type": "stream",
     "text": [
      "\t - Recall@20 epoch 5: 0.274830\n",
      "\t - MRR@20    epoch 5: 0.078973\n",
      "\n"
     ]
    },
    {
     "name": "stderr",
     "output_type": "stream",
     "text": [
      "Train:  99%|█████████▉| 7218/7293 [01:25<00:00, 84.20it/s, accuracy=0.0312, train_loss=5.31]\n",
      "Evaluation:  72%|███████▏  | 331/461 [01:33<00:36,  3.53it/s]\n"
     ]
    },
    {
     "name": "stdout",
     "output_type": "stream",
     "text": [
      "\t - Recall@20 epoch 6: 0.274830\n",
      "\t - MRR@20    epoch 6: 0.079558\n",
      "\n"
     ]
    },
    {
     "name": "stderr",
     "output_type": "stream",
     "text": [
      "Train:  99%|█████████▉| 7218/7293 [01:25<00:00, 84.36it/s, accuracy=0.0312, train_loss=5.46]\n",
      "Evaluation:  72%|███████▏  | 331/461 [01:34<00:36,  3.52it/s]\n"
     ]
    },
    {
     "name": "stdout",
     "output_type": "stream",
     "text": [
      "\t - Recall@20 epoch 7: 0.275963\n",
      "\t - MRR@20    epoch 7: 0.079732\n",
      "\n"
     ]
    },
    {
     "name": "stderr",
     "output_type": "stream",
     "text": [
      "Train:  99%|█████████▉| 7218/7293 [01:25<00:00, 84.56it/s, accuracy=0.0156, train_loss=5.34]\n",
      "Evaluation:  72%|███████▏  | 331/461 [01:35<00:37,  3.46it/s]\n"
     ]
    },
    {
     "name": "stdout",
     "output_type": "stream",
     "text": [
      "\t - Recall@20 epoch 8: 0.273980\n",
      "\t - MRR@20    epoch 8: 0.079583\n",
      "\n"
     ]
    },
    {
     "name": "stderr",
     "output_type": "stream",
     "text": [
      "Train:  99%|█████████▉| 7218/7293 [01:26<00:00, 83.83it/s, accuracy=0.0312, train_loss=5.28]\n",
      "Evaluation:  72%|███████▏  | 331/461 [01:33<00:36,  3.52it/s]\n"
     ]
    },
    {
     "name": "stdout",
     "output_type": "stream",
     "text": [
      "\t - Recall@20 epoch 9: 0.272753\n",
      "\t - MRR@20    epoch 9: 0.078792\n",
      "\n"
     ]
    },
    {
     "name": "stderr",
     "output_type": "stream",
     "text": [
      "Train:  99%|█████████▉| 7218/7293 [01:24<00:00, 85.35it/s, accuracy=0.0156, train_loss=5.37]\n",
      "Evaluation:  72%|███████▏  | 331/461 [01:33<00:36,  3.56it/s]"
     ]
    },
    {
     "name": "stdout",
     "output_type": "stream",
     "text": [
      "\t - Recall@20 epoch 10: 0.271903\n",
      "\t - MRR@20    epoch 10: 0.079040\n",
      "\n"
     ]
    },
    {
     "name": "stderr",
     "output_type": "stream",
     "text": [
      "\n"
     ]
    }
   ],
   "source": [
    "args = Args(tr\n",
    "            , val\n",
    "            , test\n",
    "            , batch_size=64    \n",
    "            , hsz=100           # 출력차원의 수 영향 살펴보기 50->100\n",
    "            , drop_rate=0.1    \n",
    "            , lr=0.001          \n",
    "            , epochs=10       \n",
    "            , k=20\n",
    "           )\n",
    "model_002 = create_model(args)\n",
    "train_model(model_002, args)"
   ]
  },
  {
   "cell_type": "markdown",
   "id": "16cb91a8",
   "metadata": {},
   "source": [
    "hsz의 증가(50->100)는 모델 성능 개선에 유리합니다.  \n",
    "recal@20 최대값 변화 : 0.273 -> 0.276    \n",
    "MRR@20 최대값 변화   : 0,079 -> 0.0797  \n",
    "train_loss 최소값 변화 : 5.66 -> 5.28 \n",
    "  \n",
    "\n",
    "<그리고 에폭은 5 정도로도 하이퍼파라메터의 영향을 알 수 있을 것 같습니다.  \n",
    "이후 모델은 모두 epoch을 5로 해보겠습니다. (시간이 너무 많이 걸리네요 ㅠㅠ)>"
   ]
  },
  {
   "cell_type": "markdown",
   "id": "630ab9d6",
   "metadata": {},
   "source": [
    "### model_003"
   ]
  },
  {
   "cell_type": "code",
   "execution_count": 53,
   "id": "d17b1ae2",
   "metadata": {},
   "outputs": [
    {
     "name": "stdout",
     "output_type": "stream",
     "text": [
      "Model: \"model_7\"\n",
      "_________________________________________________________________\n",
      "Layer (type)                 Output Shape              Param #   \n",
      "=================================================================\n",
      "input_8 (InputLayer)         [(128, 1, 3125)]          0         \n",
      "_________________________________________________________________\n",
      "GRU (GRU)                    [(128, 50), (128, 50)]    476550    \n",
      "_________________________________________________________________\n",
      "dropout_7 (Dropout)          (128, 50)                 0         \n",
      "_________________________________________________________________\n",
      "dense_7 (Dense)              (128, 3125)               159375    \n",
      "=================================================================\n",
      "Total params: 635,925\n",
      "Trainable params: 635,925\n",
      "Non-trainable params: 0\n",
      "_________________________________________________________________\n"
     ]
    },
    {
     "name": "stderr",
     "output_type": "stream",
     "text": [
      "Train:  98%|█████████▊| 3563/3646 [00:51<00:01, 68.85it/s, accuracy=0.0234, train_loss=6.25] \n",
      "Evaluation:  29%|██▉       | 67/230 [00:37<01:31,  1.79it/s]\n"
     ]
    },
    {
     "name": "stdout",
     "output_type": "stream",
     "text": [
      "\t - Recall@20 epoch 1: 0.182836\n",
      "\t - MRR@20    epoch 1: 0.044480\n",
      "\n"
     ]
    },
    {
     "name": "stderr",
     "output_type": "stream",
     "text": [
      "Train:  98%|█████████▊| 3563/3646 [00:50<00:01, 71.24it/s, accuracy=0.0312, train_loss=5.88] \n",
      "Evaluation:  29%|██▉       | 67/230 [00:36<01:27,  1.86it/s]\n"
     ]
    },
    {
     "name": "stdout",
     "output_type": "stream",
     "text": [
      "\t - Recall@20 epoch 2: 0.254198\n",
      "\t - MRR@20    epoch 2: 0.066784\n",
      "\n"
     ]
    },
    {
     "name": "stderr",
     "output_type": "stream",
     "text": [
      "Train:  98%|█████████▊| 3563/3646 [00:49<00:01, 71.50it/s, accuracy=0.0312, train_loss=5.69] \n",
      "Evaluation:  29%|██▉       | 67/230 [00:35<01:26,  1.88it/s]\n"
     ]
    },
    {
     "name": "stdout",
     "output_type": "stream",
     "text": [
      "\t - Recall@20 epoch 3: 0.288363\n",
      "\t - MRR@20    epoch 3: 0.077621\n",
      "\n"
     ]
    },
    {
     "name": "stderr",
     "output_type": "stream",
     "text": [
      "Train:  98%|█████████▊| 3563/3646 [00:50<00:01, 70.89it/s, accuracy=0.0469, train_loss=5.61] \n",
      "Evaluation:  29%|██▉       | 67/230 [00:35<01:25,  1.91it/s]\n"
     ]
    },
    {
     "name": "stdout",
     "output_type": "stream",
     "text": [
      "\t - Recall@20 epoch 4: 0.303172\n",
      "\t - MRR@20    epoch 4: 0.084267\n",
      "\n"
     ]
    },
    {
     "name": "stderr",
     "output_type": "stream",
     "text": [
      "Train:  98%|█████████▊| 3563/3646 [00:49<00:01, 71.45it/s, accuracy=0.0469, train_loss=5.52] \n",
      "Evaluation:  29%|██▉       | 67/230 [00:34<01:24,  1.92it/s]"
     ]
    },
    {
     "name": "stdout",
     "output_type": "stream",
     "text": [
      "\t - Recall@20 epoch 5: 0.310401\n",
      "\t - MRR@20    epoch 5: 0.089379\n",
      "\n"
     ]
    },
    {
     "name": "stderr",
     "output_type": "stream",
     "text": [
      "\n"
     ]
    }
   ],
   "source": [
    "args = Args(tr\n",
    "            , val\n",
    "            , test\n",
    "            , batch_size=128      # batch_size의 영향 살펴보기(1) : 64 -> 128 \n",
    "            , hsz=50           \n",
    "            , drop_rate=0.1    \n",
    "            , lr=0.001          \n",
    "            , epochs=5        \n",
    "            , k=20\n",
    "           )\n",
    "model_003 = create_model(args)\n",
    "train_model(model_003, args)"
   ]
  },
  {
   "cell_type": "markdown",
   "id": "16c6363e",
   "metadata": {},
   "source": [
    "batch_size의 증가(64->128)는 모델 성능 개선에 유리합니다.  \n",
    "recal@20 최대값 변화 : 0.273 -> 0.31  \n",
    "MRR@20 최대값 변화 : 0,079 -> 0.089  \n",
    "train_loss 최소값 변화 : 5.66 -> 5.52  \n"
   ]
  },
  {
   "cell_type": "markdown",
   "id": "2e4ef3c4",
   "metadata": {},
   "source": [
    "### model_004"
   ]
  },
  {
   "cell_type": "code",
   "execution_count": 54,
   "id": "9194ff0f",
   "metadata": {},
   "outputs": [
    {
     "name": "stdout",
     "output_type": "stream",
     "text": [
      "Model: \"model_8\"\n",
      "_________________________________________________________________\n",
      "Layer (type)                 Output Shape              Param #   \n",
      "=================================================================\n",
      "input_9 (InputLayer)         [(32, 1, 3125)]           0         \n",
      "_________________________________________________________________\n",
      "GRU (GRU)                    [(32, 50), (32, 50)]      476550    \n",
      "_________________________________________________________________\n",
      "dropout_8 (Dropout)          (32, 50)                  0         \n",
      "_________________________________________________________________\n",
      "dense_8 (Dense)              (32, 3125)                159375    \n",
      "=================================================================\n",
      "Total params: 635,925\n",
      "Trainable params: 635,925\n",
      "Non-trainable params: 0\n",
      "_________________________________________________________________\n"
     ]
    },
    {
     "name": "stderr",
     "output_type": "stream",
     "text": [
      "Train:  99%|█████████▉| 14505/14587 [02:28<00:00, 97.96it/s, accuracy=0.0625, train_loss=5.57] \n",
      "Evaluation:  85%|████████▍ | 782/922 [02:11<00:23,  5.96it/s]\n"
     ]
    },
    {
     "name": "stdout",
     "output_type": "stream",
     "text": [
      "\t - Recall@20 epoch 1: 0.195173\n",
      "\t - MRR@20    epoch 1: 0.048319\n",
      "\n"
     ]
    },
    {
     "name": "stderr",
     "output_type": "stream",
     "text": [
      "Train:  99%|█████████▉| 14505/14587 [02:25<00:00, 99.39it/s, accuracy=0.0625, train_loss=5.28] \n",
      "Evaluation:  85%|████████▍ | 782/922 [02:07<00:22,  6.13it/s]\n"
     ]
    },
    {
     "name": "stdout",
     "output_type": "stream",
     "text": [
      "\t - Recall@20 epoch 2: 0.233416\n",
      "\t - MRR@20    epoch 2: 0.062445\n",
      "\n"
     ]
    },
    {
     "name": "stderr",
     "output_type": "stream",
     "text": [
      "Train:  99%|█████████▉| 14505/14587 [02:24<00:00, 100.42it/s, accuracy=0.0938, train_loss=5.26]\n",
      "Evaluation:  85%|████████▍ | 782/922 [02:06<00:22,  6.19it/s]\n"
     ]
    },
    {
     "name": "stdout",
     "output_type": "stream",
     "text": [
      "\t - Recall@20 epoch 3: 0.244485\n",
      "\t - MRR@20    epoch 3: 0.067756\n",
      "\n"
     ]
    },
    {
     "name": "stderr",
     "output_type": "stream",
     "text": [
      "Train:  99%|█████████▉| 14505/14587 [02:24<00:00, 100.29it/s, accuracy=0.0938, train_loss=5]   \n",
      "Evaluation:  85%|████████▍ | 782/922 [02:09<00:23,  6.03it/s]\n"
     ]
    },
    {
     "name": "stdout",
     "output_type": "stream",
     "text": [
      "\t - Recall@20 epoch 4: 0.250719\n",
      "\t - MRR@20    epoch 4: 0.070916\n",
      "\n"
     ]
    },
    {
     "name": "stderr",
     "output_type": "stream",
     "text": [
      "Train:  99%|█████████▉| 14505/14587 [02:27<00:00, 98.27it/s, accuracy=0.0938, train_loss=5.15] \n",
      "Evaluation:  85%|████████▍ | 782/922 [02:08<00:22,  6.10it/s]"
     ]
    },
    {
     "name": "stdout",
     "output_type": "stream",
     "text": [
      "\t - Recall@20 epoch 5: 0.253996\n",
      "\t - MRR@20    epoch 5: 0.072109\n",
      "\n"
     ]
    },
    {
     "name": "stderr",
     "output_type": "stream",
     "text": [
      "\n"
     ]
    }
   ],
   "source": [
    "args = Args(tr\n",
    "            , val\n",
    "            , test\n",
    "            , batch_size=32      # batch_size의 영향 살펴보기(2) : 64 -> 32  \n",
    "            , hsz=50           \n",
    "            , drop_rate=0.1    \n",
    "            , lr=0.001          \n",
    "            , epochs=5        \n",
    "            , k=20\n",
    "           )\n",
    "model_004 = create_model(args)\n",
    "train_model(model_004, args)"
   ]
  },
  {
   "cell_type": "markdown",
   "id": "e87379ce",
   "metadata": {},
   "source": [
    "batch_size의 감소(64->32)는 모델 개선에 불리해 보입니다.  \n",
    "recal@20 최대값 변화 : 0.273 -> 0.253  \n",
    "MRR@20 최대값 변화 : 0,079 -> 0.072  \n",
    "train_loss 최소값 변화 : 5.66 -> 5.0  \n",
    "  \n",
    "물론, 아직 epoch이 작은 것이 아쉬울 수 있지만 이미 batch_size 128의 결과가 크게 개선된 것으로 보여 batch_size는 줄이는 것보다 조금 늘리는 것이 유리할 것으로 판단 됩니다."
   ]
  },
  {
   "cell_type": "markdown",
   "id": "f54735e3",
   "metadata": {},
   "source": [
    "### model_005"
   ]
  },
  {
   "cell_type": "code",
   "execution_count": 55,
   "id": "f831e2f2",
   "metadata": {},
   "outputs": [
    {
     "name": "stdout",
     "output_type": "stream",
     "text": [
      "Model: \"model_9\"\n",
      "_________________________________________________________________\n",
      "Layer (type)                 Output Shape              Param #   \n",
      "=================================================================\n",
      "input_10 (InputLayer)        [(64, 1, 3125)]           0         \n",
      "_________________________________________________________________\n",
      "GRU (GRU)                    [(64, 50), (64, 50)]      476550    \n",
      "_________________________________________________________________\n",
      "dropout_9 (Dropout)          (64, 50)                  0         \n",
      "_________________________________________________________________\n",
      "dense_9 (Dense)              (64, 3125)                159375    \n",
      "=================================================================\n",
      "Total params: 635,925\n",
      "Trainable params: 635,925\n",
      "Non-trainable params: 0\n",
      "_________________________________________________________________\n"
     ]
    },
    {
     "name": "stderr",
     "output_type": "stream",
     "text": [
      "Train:  99%|█████████▉| 7218/7293 [01:24<00:00, 85.19it/s, accuracy=0.0156, train_loss=6.4] \n",
      "Evaluation:  72%|███████▏  | 331/461 [01:41<00:39,  3.27it/s]\n"
     ]
    },
    {
     "name": "stdout",
     "output_type": "stream",
     "text": [
      "\t - Recall@20 epoch 1: 0.175840\n",
      "\t - MRR@20    epoch 1: 0.043427\n",
      "\n"
     ]
    },
    {
     "name": "stderr",
     "output_type": "stream",
     "text": [
      "Train:  99%|█████████▉| 7218/7293 [01:23<00:00, 86.92it/s, accuracy=0.0156, train_loss=6.09]\n",
      "Evaluation:  72%|███████▏  | 331/461 [01:39<00:39,  3.32it/s]\n"
     ]
    },
    {
     "name": "stdout",
     "output_type": "stream",
     "text": [
      "\t - Recall@20 epoch 2: 0.231731\n",
      "\t - MRR@20    epoch 2: 0.059223\n",
      "\n"
     ]
    },
    {
     "name": "stderr",
     "output_type": "stream",
     "text": [
      "Train:  99%|█████████▉| 7218/7293 [01:23<00:00, 86.44it/s, accuracy=0.0156, train_loss=5.86]\n",
      "Evaluation:  72%|███████▏  | 331/461 [01:38<00:38,  3.36it/s]\n"
     ]
    },
    {
     "name": "stdout",
     "output_type": "stream",
     "text": [
      "\t - Recall@20 epoch 3: 0.251322\n",
      "\t - MRR@20    epoch 3: 0.067100\n",
      "\n"
     ]
    },
    {
     "name": "stderr",
     "output_type": "stream",
     "text": [
      "Train:  99%|█████████▉| 7218/7293 [01:23<00:00, 86.48it/s, accuracy=0.0469, train_loss=5.77]\n",
      "Evaluation:  72%|███████▏  | 331/461 [01:36<00:38,  3.42it/s]\n"
     ]
    },
    {
     "name": "stdout",
     "output_type": "stream",
     "text": [
      "\t - Recall@20 epoch 4: 0.260621\n",
      "\t - MRR@20    epoch 4: 0.071005\n",
      "\n"
     ]
    },
    {
     "name": "stderr",
     "output_type": "stream",
     "text": [
      "Train:  99%|█████████▉| 7218/7293 [01:22<00:00, 87.66it/s, accuracy=0.0312, train_loss=5.69]\n",
      "Evaluation:  72%|███████▏  | 331/461 [01:36<00:37,  3.45it/s]"
     ]
    },
    {
     "name": "stdout",
     "output_type": "stream",
     "text": [
      "\t - Recall@20 epoch 5: 0.266994\n",
      "\t - MRR@20    epoch 5: 0.074536\n",
      "\n"
     ]
    },
    {
     "name": "stderr",
     "output_type": "stream",
     "text": [
      "\n"
     ]
    }
   ],
   "source": [
    "args = Args(tr\n",
    "            , val\n",
    "            , test\n",
    "            , batch_size=64    \n",
    "            , hsz=50           \n",
    "            , drop_rate=0.2      # dropout 영향 살펴보기 : 0.1 -> 0.2    \n",
    "            , lr=0.001          \n",
    "            , epochs=5        \n",
    "            , k=20\n",
    "           )\n",
    "model_005 = create_model(args)\n",
    "train_model(model_005, args)"
   ]
  },
  {
   "cell_type": "markdown",
   "id": "37b145da",
   "metadata": {},
   "source": [
    "dropout의 증가(0.1 -> 0.2)는 모델 개선에 크게 유리해 보이지 않습니다.   \n",
    "recal@20 최대값 변화 : 0.273 -> 0.266  \n",
    "MRR@20 최대값 변화 : 0,079 -> 0.074   \n",
    "train_loss 최소값 변화 : 5.66 -> 5.69\n"
   ]
  },
  {
   "cell_type": "markdown",
   "id": "743d8d83",
   "metadata": {},
   "source": [
    "### model_006"
   ]
  },
  {
   "cell_type": "code",
   "execution_count": 56,
   "id": "4a96240b",
   "metadata": {},
   "outputs": [
    {
     "name": "stdout",
     "output_type": "stream",
     "text": [
      "Model: \"model_10\"\n",
      "_________________________________________________________________\n",
      "Layer (type)                 Output Shape              Param #   \n",
      "=================================================================\n",
      "input_11 (InputLayer)        [(64, 1, 3125)]           0         \n",
      "_________________________________________________________________\n",
      "GRU (GRU)                    [(64, 50), (64, 50)]      476550    \n",
      "_________________________________________________________________\n",
      "dropout_10 (Dropout)         (64, 50)                  0         \n",
      "_________________________________________________________________\n",
      "dense_10 (Dense)             (64, 3125)                159375    \n",
      "=================================================================\n",
      "Total params: 635,925\n",
      "Trainable params: 635,925\n",
      "Non-trainable params: 0\n",
      "_________________________________________________________________\n"
     ]
    },
    {
     "name": "stderr",
     "output_type": "stream",
     "text": [
      "Train:  99%|█████████▉| 7218/7293 [01:24<00:00, 85.82it/s, accuracy=0.0312, train_loss=6.04]\n",
      "Evaluation:  72%|███████▏  | 331/461 [01:37<00:38,  3.40it/s]\n"
     ]
    },
    {
     "name": "stdout",
     "output_type": "stream",
     "text": [
      "\t - Recall@20 epoch 1: 0.229843\n",
      "\t - MRR@20    epoch 1: 0.060018\n",
      "\n"
     ]
    },
    {
     "name": "stderr",
     "output_type": "stream",
     "text": [
      "Train:  99%|█████████▉| 7218/7293 [01:22<00:00, 87.72it/s, accuracy=0.0156, train_loss=5.83]\n",
      "Evaluation:  72%|███████▏  | 331/461 [01:37<00:38,  3.40it/s]\n"
     ]
    },
    {
     "name": "stdout",
     "output_type": "stream",
     "text": [
      "\t - Recall@20 epoch 2: 0.231401\n",
      "\t - MRR@20    epoch 2: 0.061373\n",
      "\n"
     ]
    },
    {
     "name": "stderr",
     "output_type": "stream",
     "text": [
      "Train:  99%|█████████▉| 7218/7293 [01:22<00:00, 87.95it/s, accuracy=0.0312, train_loss=5.86]\n",
      "Evaluation:  72%|███████▏  | 331/461 [01:39<00:39,  3.33it/s]\n"
     ]
    },
    {
     "name": "stdout",
     "output_type": "stream",
     "text": [
      "\t - Recall@20 epoch 3: 0.225925\n",
      "\t - MRR@20    epoch 3: 0.059891\n",
      "\n"
     ]
    },
    {
     "name": "stderr",
     "output_type": "stream",
     "text": [
      "Train:  99%|█████████▉| 7218/7293 [01:22<00:00, 87.31it/s, accuracy=0.0312, train_loss=5.81]\n",
      "Evaluation:  72%|███████▏  | 331/461 [01:39<00:39,  3.33it/s]\n"
     ]
    },
    {
     "name": "stdout",
     "output_type": "stream",
     "text": [
      "\t - Recall@20 epoch 4: 0.224603\n",
      "\t - MRR@20    epoch 4: 0.059206\n",
      "\n"
     ]
    },
    {
     "name": "stderr",
     "output_type": "stream",
     "text": [
      "Train:  99%|█████████▉| 7218/7293 [01:22<00:00, 87.63it/s, accuracy=0.0469, train_loss=5.83]\n",
      "Evaluation:  72%|███████▏  | 331/461 [01:38<00:38,  3.34it/s]"
     ]
    },
    {
     "name": "stdout",
     "output_type": "stream",
     "text": [
      "\t - Recall@20 epoch 5: 0.222574\n",
      "\t - MRR@20    epoch 5: 0.059318\n",
      "\n"
     ]
    },
    {
     "name": "stderr",
     "output_type": "stream",
     "text": [
      "\n"
     ]
    }
   ],
   "source": [
    "args = Args(tr\n",
    "            , val\n",
    "            , test\n",
    "            , batch_size=64    \n",
    "            , hsz=50           \n",
    "            , drop_rate=0.1    \n",
    "            , lr=0.01            # 학습률 영향 살펴보기 0.001 -> 0.01 \n",
    "            , epochs=5        \n",
    "            , k=20\n",
    "           )\n",
    "model_006 = create_model(args)\n",
    "train_model(model_006, args)"
   ]
  },
  {
   "cell_type": "markdown",
   "id": "c6c2d097",
   "metadata": {},
   "source": [
    "학습률의 증가(0.001 -> 0.01)는 모델 개선에 도움이 되지 않습니다.  \n",
    "recal@20 최대값 변화 : 0.273 -> 0.232    \n",
    "MRR@20 최대값 변화 : 0,079 -> 0.062  \n",
    "train_loss 최소값 변화 : 5.66 -> 5.81  \n"
   ]
  },
  {
   "cell_type": "markdown",
   "id": "52001a7d",
   "metadata": {},
   "source": [
    "### model_007"
   ]
  },
  {
   "cell_type": "code",
   "execution_count": 57,
   "id": "1d23fc79",
   "metadata": {},
   "outputs": [
    {
     "name": "stdout",
     "output_type": "stream",
     "text": [
      "Model: \"model_11\"\n",
      "_________________________________________________________________\n",
      "Layer (type)                 Output Shape              Param #   \n",
      "=================================================================\n",
      "input_12 (InputLayer)        [(64, 1, 3125)]           0         \n",
      "_________________________________________________________________\n",
      "GRU (GRU)                    [(64, 50), (64, 50)]      476550    \n",
      "_________________________________________________________________\n",
      "dropout_11 (Dropout)         (64, 50)                  0         \n",
      "_________________________________________________________________\n",
      "dense_11 (Dense)             (64, 3125)                159375    \n",
      "=================================================================\n",
      "Total params: 635,925\n",
      "Trainable params: 635,925\n",
      "Non-trainable params: 0\n",
      "_________________________________________________________________\n"
     ]
    },
    {
     "name": "stderr",
     "output_type": "stream",
     "text": [
      "Train:  99%|█████████▉| 7218/7293 [01:24<00:00, 85.23it/s, accuracy=0.0156, train_loss=6.35]\n",
      "Evaluation:  72%|███████▏  | 331/461 [02:42<01:03,  2.03it/s]\n"
     ]
    },
    {
     "name": "stdout",
     "output_type": "stream",
     "text": [
      "\t - Recall@40 epoch 1: 0.283138\n",
      "\t - MRR@40    epoch 1: 0.049380\n",
      "\n"
     ]
    },
    {
     "name": "stderr",
     "output_type": "stream",
     "text": [
      "Train:  99%|█████████▉| 7218/7293 [01:22<00:00, 87.60it/s, accuracy=0.0156, train_loss=5.96]\n",
      "Evaluation:  72%|███████▏  | 331/461 [02:33<01:00,  2.16it/s]\n"
     ]
    },
    {
     "name": "stdout",
     "output_type": "stream",
     "text": [
      "\t - Recall@40 epoch 2: 0.347338\n",
      "\t - MRR@40    epoch 2: 0.064825\n",
      "\n"
     ]
    },
    {
     "name": "stderr",
     "output_type": "stream",
     "text": [
      "Train:  99%|█████████▉| 7218/7293 [01:21<00:00, 89.08it/s, accuracy=0.0469, train_loss=5.81]\n",
      "Evaluation:  72%|███████▏  | 331/461 [02:30<00:58,  2.20it/s]\n"
     ]
    },
    {
     "name": "stdout",
     "output_type": "stream",
     "text": [
      "\t - Recall@40 epoch 3: 0.372781\n",
      "\t - MRR@40    epoch 3: 0.071375\n",
      "\n"
     ]
    },
    {
     "name": "stderr",
     "output_type": "stream",
     "text": [
      "Train:  99%|█████████▉| 7218/7293 [01:20<00:00, 89.12it/s, accuracy=0.0312, train_loss=5.75]\n",
      "Evaluation:  72%|███████▏  | 331/461 [02:30<00:59,  2.20it/s]\n"
     ]
    },
    {
     "name": "stdout",
     "output_type": "stream",
     "text": [
      "\t - Recall@40 epoch 4: 0.383403\n",
      "\t - MRR@40    epoch 4: 0.076147\n",
      "\n"
     ]
    },
    {
     "name": "stderr",
     "output_type": "stream",
     "text": [
      "Train:  99%|█████████▉| 7218/7293 [01:21<00:00, 88.36it/s, accuracy=0.0312, train_loss=5.7] \n",
      "Evaluation:  72%|███████▏  | 331/461 [02:28<00:58,  2.23it/s]"
     ]
    },
    {
     "name": "stdout",
     "output_type": "stream",
     "text": [
      "\t - Recall@40 epoch 5: 0.385102\n",
      "\t - MRR@40    epoch 5: 0.077907\n",
      "\n"
     ]
    },
    {
     "name": "stderr",
     "output_type": "stream",
     "text": [
      "\n"
     ]
    }
   ],
   "source": [
    "args = Args(tr\n",
    "            , val\n",
    "            , test\n",
    "            , batch_size=64    \n",
    "            , hsz=50           \n",
    "            , drop_rate=0.1    \n",
    "            , lr=0.001          \n",
    "            , epochs=5        \n",
    "            , k=40                # k값 영향 살펴보기 20 -> 40\n",
    "           )\n",
    "model_007 = create_model(args)\n",
    "train_model(model_007, args)"
   ]
  },
  {
   "cell_type": "markdown",
   "id": "857c1ff9",
   "metadata": {},
   "source": [
    "k값의 증가(20 -> 40)는 모델 개선에 도움이 되는 것으로 보입니다. 특히, recall이 크게 증가합니다.  \n",
    "recal@20 최대값 변화 : 0.273 -> 0.385  \n",
    "MRR@20 최대값 변화 : 0,079 -> 0.078  \n",
    "train_loss 최소값 변화 : 5.66 -> 5.7  "
   ]
  },
  {
   "cell_type": "markdown",
   "id": "2030fd1f",
   "metadata": {},
   "source": [
    "##### 하이퍼 파라메터 정리  \n",
    "\n",
    "|      |batch_size|hsz|drop_rate|Ir|k|\n",
    "|--|--|--|--|--|--|\n",
    "|최초 모델| 64|50|0.1|0.001|20|\n",
    "|개선 방향|128|100|-|-|40|"
   ]
  },
  {
   "cell_type": "markdown",
   "id": "c7682354",
   "metadata": {},
   "source": [
    "### 최종 모델 선정"
   ]
  },
  {
   "cell_type": "code",
   "execution_count": 59,
   "id": "c9a5fa28",
   "metadata": {
    "scrolled": false
   },
   "outputs": [
    {
     "name": "stdout",
     "output_type": "stream",
     "text": [
      "Model: \"model_12\"\n",
      "_________________________________________________________________\n",
      "Layer (type)                 Output Shape              Param #   \n",
      "=================================================================\n",
      "input_13 (InputLayer)        [(128, 1, 3125)]          0         \n",
      "_________________________________________________________________\n",
      "GRU (GRU)                    [(128, 100), (128, 100)]  968100    \n",
      "_________________________________________________________________\n",
      "dropout_12 (Dropout)         (128, 100)                0         \n",
      "_________________________________________________________________\n",
      "dense_12 (Dense)             (128, 3125)               315625    \n",
      "=================================================================\n",
      "Total params: 1,283,725\n",
      "Trainable params: 1,283,725\n",
      "Non-trainable params: 0\n",
      "_________________________________________________________________\n"
     ]
    },
    {
     "name": "stderr",
     "output_type": "stream",
     "text": [
      "Train:  98%|█████████▊| 3563/3646 [00:54<00:01, 65.18it/s, accuracy=0.0312, train_loss=5.96] \n",
      "Evaluation:  29%|██▉       | 67/230 [00:59<02:25,  1.12it/s]\n"
     ]
    },
    {
     "name": "stdout",
     "output_type": "stream",
     "text": [
      "\t - Recall@40 epoch 1: 0.340135\n",
      "\t - MRR@40    epoch 1: 0.065908\n",
      "\n"
     ]
    },
    {
     "name": "stderr",
     "output_type": "stream",
     "text": [
      "Train:  98%|█████████▊| 3563/3646 [00:51<00:01, 68.63it/s, accuracy=0.0469, train_loss=5.63] \n",
      "Evaluation:  29%|██▉       | 67/230 [00:56<02:16,  1.19it/s]\n"
     ]
    },
    {
     "name": "stdout",
     "output_type": "stream",
     "text": [
      "\t - Recall@40 epoch 2: 0.408815\n",
      "\t - MRR@40    epoch 2: 0.086640\n",
      "\n"
     ]
    },
    {
     "name": "stderr",
     "output_type": "stream",
     "text": [
      "Train:  98%|█████████▊| 3563/3646 [00:52<00:01, 68.42it/s, accuracy=0.0391, train_loss=5.55] \n",
      "Evaluation:  29%|██▉       | 67/230 [00:54<02:13,  1.22it/s]\n"
     ]
    },
    {
     "name": "stdout",
     "output_type": "stream",
     "text": [
      "\t - Recall@40 epoch 3: 0.433302\n",
      "\t - MRR@40    epoch 3: 0.095213\n",
      "\n"
     ]
    },
    {
     "name": "stderr",
     "output_type": "stream",
     "text": [
      "Train:  98%|█████████▊| 3563/3646 [00:51<00:01, 68.57it/s, accuracy=0.0625, train_loss=5.37] \n",
      "Evaluation:  29%|██▉       | 67/230 [00:54<02:12,  1.23it/s]\n"
     ]
    },
    {
     "name": "stdout",
     "output_type": "stream",
     "text": [
      "\t - Recall@40 epoch 4: 0.446245\n",
      "\t - MRR@40    epoch 4: 0.100240\n",
      "\n"
     ]
    },
    {
     "name": "stderr",
     "output_type": "stream",
     "text": [
      "Train:  98%|█████████▊| 3563/3646 [00:51<00:01, 69.23it/s, accuracy=0.0625, train_loss=5.35] \n",
      "Evaluation:  29%|██▉       | 67/230 [00:54<02:11,  1.24it/s]\n"
     ]
    },
    {
     "name": "stdout",
     "output_type": "stream",
     "text": [
      "\t - Recall@40 epoch 5: 0.452192\n",
      "\t - MRR@40    epoch 5: 0.102710\n",
      "\n"
     ]
    },
    {
     "name": "stderr",
     "output_type": "stream",
     "text": [
      "Train:  98%|█████████▊| 3563/3646 [00:51<00:01, 69.25it/s, accuracy=0.0781, train_loss=5.26] \n",
      "Evaluation:  29%|██▉       | 67/230 [00:53<02:10,  1.25it/s]\n"
     ]
    },
    {
     "name": "stdout",
     "output_type": "stream",
     "text": [
      "\t - Recall@40 epoch 6: 0.454291\n",
      "\t - MRR@40    epoch 6: 0.103084\n",
      "\n"
     ]
    },
    {
     "name": "stderr",
     "output_type": "stream",
     "text": [
      "Train:  98%|█████████▊| 3563/3646 [00:51<00:01, 68.65it/s, accuracy=0.0781, train_loss=5.21] \n",
      "Evaluation:  29%|██▉       | 67/230 [00:53<02:10,  1.25it/s]\n"
     ]
    },
    {
     "name": "stdout",
     "output_type": "stream",
     "text": [
      "\t - Recall@40 epoch 7: 0.456740\n",
      "\t - MRR@40    epoch 7: 0.104732\n",
      "\n"
     ]
    },
    {
     "name": "stderr",
     "output_type": "stream",
     "text": [
      "Train:  98%|█████████▊| 3563/3646 [00:51<00:01, 69.05it/s, accuracy=0.0938, train_loss=5.18] \n",
      "Evaluation:  29%|██▉       | 67/230 [00:53<02:11,  1.24it/s]\n"
     ]
    },
    {
     "name": "stdout",
     "output_type": "stream",
     "text": [
      "\t - Recall@40 epoch 8: 0.454524\n",
      "\t - MRR@40    epoch 8: 0.105166\n",
      "\n"
     ]
    },
    {
     "name": "stderr",
     "output_type": "stream",
     "text": [
      "Train:  98%|█████████▊| 3563/3646 [00:51<00:01, 69.37it/s, accuracy=0.0703, train_loss=5.15] \n",
      "Evaluation:  29%|██▉       | 67/230 [00:53<02:11,  1.24it/s]\n"
     ]
    },
    {
     "name": "stdout",
     "output_type": "stream",
     "text": [
      "\t - Recall@40 epoch 9: 0.452425\n",
      "\t - MRR@40    epoch 9: 0.105638\n",
      "\n"
     ]
    },
    {
     "name": "stderr",
     "output_type": "stream",
     "text": [
      "Train:  98%|█████████▊| 3563/3646 [00:51<00:01, 69.34it/s, accuracy=0.0859, train_loss=5.08] \n",
      "Evaluation:  29%|██▉       | 67/230 [00:53<02:10,  1.24it/s]\n"
     ]
    },
    {
     "name": "stdout",
     "output_type": "stream",
     "text": [
      "\t - Recall@40 epoch 10: 0.449977\n",
      "\t - MRR@40    epoch 10: 0.105018\n",
      "\n"
     ]
    },
    {
     "name": "stderr",
     "output_type": "stream",
     "text": [
      "Train:  98%|█████████▊| 3563/3646 [00:50<00:01, 69.95it/s, accuracy=0.0781, train_loss=5.07] \n",
      "Evaluation:  29%|██▉       | 67/230 [00:54<02:11,  1.24it/s]\n"
     ]
    },
    {
     "name": "stdout",
     "output_type": "stream",
     "text": [
      "\t - Recall@40 epoch 11: 0.450443\n",
      "\t - MRR@40    epoch 11: 0.105474\n",
      "\n"
     ]
    },
    {
     "name": "stderr",
     "output_type": "stream",
     "text": [
      "Train:  98%|█████████▊| 3563/3646 [00:51<00:01, 69.21it/s, accuracy=0.109, train_loss=4.96] \n",
      "Evaluation:  29%|██▉       | 67/230 [00:54<02:12,  1.23it/s]\n"
     ]
    },
    {
     "name": "stdout",
     "output_type": "stream",
     "text": [
      "\t - Recall@40 epoch 12: 0.448344\n",
      "\t - MRR@40    epoch 12: 0.104357\n",
      "\n"
     ]
    },
    {
     "name": "stderr",
     "output_type": "stream",
     "text": [
      "Train:  98%|█████████▊| 3563/3646 [00:52<00:01, 67.64it/s, accuracy=0.0781, train_loss=4.91] \n",
      "Evaluation:  29%|██▉       | 67/230 [00:54<02:12,  1.23it/s]\n"
     ]
    },
    {
     "name": "stdout",
     "output_type": "stream",
     "text": [
      "\t - Recall@40 epoch 13: 0.446479\n",
      "\t - MRR@40    epoch 13: 0.103768\n",
      "\n"
     ]
    },
    {
     "name": "stderr",
     "output_type": "stream",
     "text": [
      "Train:  98%|█████████▊| 3563/3646 [00:51<00:01, 69.01it/s, accuracy=0.102, train_loss=5]    \n",
      "Evaluation:  29%|██▉       | 67/230 [00:54<02:11,  1.24it/s]\n"
     ]
    },
    {
     "name": "stdout",
     "output_type": "stream",
     "text": [
      "\t - Recall@40 epoch 14: 0.445546\n",
      "\t - MRR@40    epoch 14: 0.103457\n",
      "\n"
     ]
    },
    {
     "name": "stderr",
     "output_type": "stream",
     "text": [
      "Train:  98%|█████████▊| 3563/3646 [00:51<00:01, 68.87it/s, accuracy=0.102, train_loss=4.9]   \n",
      "Evaluation:  29%|██▉       | 67/230 [00:54<02:12,  1.23it/s]\n"
     ]
    },
    {
     "name": "stdout",
     "output_type": "stream",
     "text": [
      "\t - Recall@40 epoch 15: 0.444846\n",
      "\t - MRR@40    epoch 15: 0.103215\n",
      "\n"
     ]
    },
    {
     "name": "stderr",
     "output_type": "stream",
     "text": [
      "Train:  98%|█████████▊| 3563/3646 [00:51<00:01, 68.68it/s, accuracy=0.125, train_loss=4.93] \n",
      "Evaluation:  29%|██▉       | 67/230 [00:54<02:12,  1.23it/s]\n"
     ]
    },
    {
     "name": "stdout",
     "output_type": "stream",
     "text": [
      "\t - Recall@40 epoch 16: 0.442980\n",
      "\t - MRR@40    epoch 16: 0.103675\n",
      "\n"
     ]
    },
    {
     "name": "stderr",
     "output_type": "stream",
     "text": [
      "Train:  98%|█████████▊| 3563/3646 [00:52<00:01, 68.49it/s, accuracy=0.133, train_loss=4.88]  \n",
      "Evaluation:  29%|██▉       | 67/230 [00:54<02:12,  1.23it/s]\n"
     ]
    },
    {
     "name": "stdout",
     "output_type": "stream",
     "text": [
      "\t - Recall@40 epoch 17: 0.439366\n",
      "\t - MRR@40    epoch 17: 0.103212\n",
      "\n"
     ]
    },
    {
     "name": "stderr",
     "output_type": "stream",
     "text": [
      "Train:  98%|█████████▊| 3563/3646 [00:51<00:01, 69.36it/s, accuracy=0.0781, train_loss=4.93]\n",
      "Evaluation:  29%|██▉       | 67/230 [00:54<02:12,  1.23it/s]\n"
     ]
    },
    {
     "name": "stdout",
     "output_type": "stream",
     "text": [
      "\t - Recall@40 epoch 18: 0.438549\n",
      "\t - MRR@40    epoch 18: 0.103179\n",
      "\n"
     ]
    },
    {
     "name": "stderr",
     "output_type": "stream",
     "text": [
      "Train:  98%|█████████▊| 3563/3646 [00:51<00:01, 69.35it/s, accuracy=0.133, train_loss=4.86]  \n",
      "Evaluation:  29%|██▉       | 67/230 [00:55<02:14,  1.21it/s]\n"
     ]
    },
    {
     "name": "stdout",
     "output_type": "stream",
     "text": [
      "\t - Recall@40 epoch 19: 0.437966\n",
      "\t - MRR@40    epoch 19: 0.103364\n",
      "\n"
     ]
    },
    {
     "name": "stderr",
     "output_type": "stream",
     "text": [
      "Train:  98%|█████████▊| 3563/3646 [00:51<00:01, 69.01it/s, accuracy=0.0703, train_loss=4.9]  \n",
      "Evaluation:  29%|██▉       | 67/230 [00:55<02:14,  1.21it/s]"
     ]
    },
    {
     "name": "stdout",
     "output_type": "stream",
     "text": [
      "\t - Recall@40 epoch 20: 0.435401\n",
      "\t - MRR@40    epoch 20: 0.102853\n",
      "\n"
     ]
    },
    {
     "name": "stderr",
     "output_type": "stream",
     "text": [
      "\n"
     ]
    }
   ],
   "source": [
    "args = Args(tr\n",
    "            , val\n",
    "            , test\n",
    "            , batch_size=128    \n",
    "            , hsz=100           \n",
    "            , drop_rate=0.1    \n",
    "            , lr=0.001          \n",
    "            , epochs=20        # 이제 epoch을 증가시켜 보겠습니다.\n",
    "            , k=40                \n",
    "           )\n",
    "model_final = create_model(args)\n",
    "train_model(model_final, args)"
   ]
  },
  {
   "cell_type": "markdown",
   "id": "ab305e9a",
   "metadata": {},
   "source": [
    "recal@20 최대값 : 0.456  \n",
    "MRR@20 최대값 : 0.1056  \n",
    "train_loss 최소값 : 4.86  "
   ]
  },
  {
   "cell_type": "markdown",
   "id": "d0b3d63f",
   "metadata": {},
   "source": [
    "## 고찰"
   ]
  },
  {
   "cell_type": "markdown",
   "id": "2f473d0b",
   "metadata": {},
   "source": [
    "1. SBR은 아이템과 유저 정보가 없는 상태에서도 추천을 할 수 있다는 점에서 흥미로웠습니다.  \n",
    "2. 다만, 추천의 정확도가 높지 않은 점이 아쉬웠습니다.  \n",
    "3. 이는 하이퍼 파라메터를 더 정교하게 수정하는 것으로 모델 개선이 가능하지 않을 까 생각합니다.  \n",
    "\n",
    "감사합니다."
   ]
  }
 ],
 "metadata": {
  "kernelspec": {
   "display_name": "Python 3 (ipykernel)",
   "language": "python",
   "name": "python3"
  },
  "language_info": {
   "codemirror_mode": {
    "name": "ipython",
    "version": 3
   },
   "file_extension": ".py",
   "mimetype": "text/x-python",
   "name": "python",
   "nbconvert_exporter": "python",
   "pygments_lexer": "ipython3",
   "version": "3.9.7"
  }
 },
 "nbformat": 4,
 "nbformat_minor": 5
}
